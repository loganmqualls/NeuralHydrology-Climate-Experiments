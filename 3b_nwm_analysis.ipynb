{
 "cells": [
  {
   "cell_type": "markdown",
   "id": "d720fd77",
   "metadata": {},
   "source": [
    "# Create NWM Benchmark"
   ]
  },
  {
   "cell_type": "markdown",
   "id": "f2130e60",
   "metadata": {},
   "source": [
    "Notebook 3a/X"
   ]
  },
  {
   "cell_type": "markdown",
   "id": "28f5da08",
   "metadata": {},
   "source": [
    "This notebook was written by Logan Qualls. Data for this work is sourced from the National Center for Atmospheric Research's Catchment Attributes and Meterology for Large-Sample Studies (CAMELS) dataset, and this notebook is designed to work specifically with Frederik Kratzert's NeuralHydrology (NH; https://github.com/neuralhydrology/neuralhydrology) and Grey Nearing's SACSMA-SNOW17 (SAC-SMA; https://github.com/Upstream-Tech/SACSMA-SNOW17). NH provides a flexible framework with a variety of tools specifically designed for straightforward application of Long Short-Term Memory networks to hydrological modeling. The SACSMA-SNOW17 model provides a Python interface for the SAC-SMA model."
   ]
  },
  {
   "cell_type": "markdown",
   "id": "2d5602b4",
   "metadata": {},
   "source": [
    "As mentioned in notebook 2/X, using the NWM run as a benchmark may provide insight into the comparative predictive ability and degredation of NH and SAC-SMA models. If we specified that we only wanted to run experiments on data from years also avaliable for the NWM, this is where that benchmark materializes."
   ]
  },
  {
   "cell_type": "markdown",
   "id": "6ac89ce9",
   "metadata": {},
   "source": [
    "This notebook contains modified code from notebook 3a to calculate the NWM benchmark test metrics. **A more detailed walkthrough of this process is documented there.**"
   ]
  },
  {
   "cell_type": "markdown",
   "id": "559c98f9",
   "metadata": {},
   "source": [
    "### Import Libraries"
   ]
  },
  {
   "cell_type": "code",
   "execution_count": 1,
   "id": "4e4f1d52",
   "metadata": {},
   "outputs": [],
   "source": [
    "import os\n",
    "import pickle as pkl\n",
    "import numpy as np\n",
    "import pandas as pd\n",
    "from pathlib import Path\n",
    "from tqdm.notebook import tqdm\n",
    "import matplotlib.pyplot as plt\n",
    "from functions.functions import *"
   ]
  },
  {
   "cell_type": "markdown",
   "id": "ff5a579b",
   "metadata": {},
   "source": [
    "### Define Parameters"
   ]
  },
  {
   "cell_type": "markdown",
   "id": "98cf24ab",
   "metadata": {},
   "source": [
    "##### Paths"
   ]
  },
  {
   "cell_type": "code",
   "execution_count": 2,
   "id": "76f9e11d",
   "metadata": {},
   "outputs": [],
   "source": [
    "#########################################################################################\n",
    "\n",
    "#Path to working directory (current directory)\n",
    "working_dir = Path(os.getcwd())\n",
    "\n",
    "#Path to main CAMELS directory (../camels)\n",
    "camels_dir = working_dir / 'camels'\n",
    "\n",
    "#Path to notebook_env_saves directory (.../notebook_env_saves)\n",
    "env_saves_dir = working_dir / 'notebook_env_saves'\n",
    "\n",
    "#Path to extreme dates directory (../train_test_sets)\n",
    "dates_dir = working_dir / 'config_complementaries/train_test_sets'\n",
    "\n",
    "#Path to daily nwm simulations (.../nwm_daily.pkl)\n",
    "nwm_streamflow = working_dir / 'config_complementaries/nwm/nwm_daily.pkl'\n",
    "\n",
    "#Path to file relating nwm keys to camels ids (.../camels_id.npy)\n",
    "nwm_camels_ids = working_dir / 'config_complementaries/nwm/camels_id.npy'\n",
    "\n",
    "#Path to CAMELS attributes, version 2 file (.../camels_attributes_v2.0.csv)\n",
    "camels_attributes_dir  = camels_dir / 'camels_attributes_v2.0/camels_attributes_v2.0.csv'\n",
    "\n",
    "#########################################################################################"
   ]
  },
  {
   "cell_type": "markdown",
   "id": "2728518b",
   "metadata": {},
   "source": [
    "##### Notebook Configurations"
   ]
  },
  {
   "cell_type": "code",
   "execution_count": 3,
   "id": "ba419fbf",
   "metadata": {},
   "outputs": [],
   "source": [
    "#########################################################################################\n",
    "\n",
    "#Do we want to overwrite nwm files if they already exist?\n",
    "overwrite = False\n",
    "\n",
    "#Plot all metrics or only NSE?\n",
    "plot_all_metrics = False\n",
    "\n",
    "#########################################################################################"
   ]
  },
  {
   "cell_type": "markdown",
   "id": "a6c8317f",
   "metadata": {},
   "source": [
    "You should not have to edit anything below this."
   ]
  },
  {
   "cell_type": "code",
   "execution_count": 4,
   "id": "0b2cdc66",
   "metadata": {},
   "outputs": [],
   "source": [
    "#########################################################################################\n",
    "\n",
    "env_saves = os.listdir(env_saves_dir)\n",
    "\n",
    "#########################################################################################\n",
    "\n",
    "#Define avaliable metric functions and extract the names of those functions\n",
    "metrics = [alpha_nse,beta_kge,beta_nse,kge,mse,nse,rmse,pearsonr]\n",
    "#Get names of avaliable metric functions\n",
    "metrics_names = [x.__name__ for x in metrics]\n",
    "#Set corresponding metric plot lims\n",
    "axes = [(0,2,0,1),(0,3,0,1),(-1,1,0,1),(-20,1,0,1),(0,35,0,1),(-1,1,0,1),(0,5,0,1),(-0,1,0,1)]\n",
    "#Create dictionary for metrics and axes\n",
    "metric_axes_dict = {m:a for (m,a) in zip(metrics_names, axes)}\n",
    "\n",
    "#Define metrics to plot and associated axes\n",
    "if plot_all_metrics:\n",
    "    \n",
    "    plot_metrics = metrics_names\n",
    "    \n",
    "else:\n",
    "    \n",
    "    plot_metrics = ['nse']\n",
    "    \n",
    "#########################################################################################"
   ]
  },
  {
   "cell_type": "markdown",
   "id": "956d52a2",
   "metadata": {},
   "source": [
    "### Load Source Data"
   ]
  },
  {
   "cell_type": "markdown",
   "id": "b707e7f9",
   "metadata": {},
   "source": [
    "Here we load in the supplemental CAMELS attributes file. This will be useful for several reasons; in this case, we need to extract basin information to convert NWM streamflow (m3/s) to mm to match model simulations."
   ]
  },
  {
   "cell_type": "code",
   "execution_count": 5,
   "id": "0a5c490c",
   "metadata": {},
   "outputs": [],
   "source": [
    "#Load CAMELS attributes file with basin id as index\n",
    "attributes = pd.read_csv(camels_attributes_dir, sep=';', index_col='gauge_id')\n",
    "\n",
    "#Load usgs data\n",
    "with open(env_saves_dir / f'usgs_runoff_data.pkl', 'rb') as f:\n",
    "    usgs = pkl.load(f)\n",
    "    \n",
    "#Load the NWM identification key (basins labeled differently between CAMELS and NWM)\n",
    "with open(nwm_camels_ids,'rb') as f:\n",
    "    camels_nwm_basins = np.load(f)\n",
    "        \n",
    "#Load the streamflow simulations from the nwm run\n",
    "with open(nwm_streamflow,'rb') as f:\n",
    "    nwm = pkl.load(f)"
   ]
  },
  {
   "cell_type": "markdown",
   "id": "d998a386",
   "metadata": {},
   "source": [
    "##### Load test/start end dates"
   ]
  },
  {
   "cell_type": "markdown",
   "id": "bd56c053",
   "metadata": {},
   "source": [
    "Because the NWM only uses NLDAS forcing data and does not has trained on only a subset of the years avaliable in CAMELS, we need to get a list of the files that only use NLDAS and that have only trained on \"nwm\" years.\n",
    "\n",
    "Then, we need to load in the appropriate test dates files to calculate test metrics like we did for NH and SAC-SMA runs in notebook 4/X. From loading this in, we can also get information about experiment types and the respective basin list."
   ]
  },
  {
   "cell_type": "code",
   "execution_count": 6,
   "id": "cae59ecd",
   "metadata": {},
   "outputs": [],
   "source": [
    "#Retreive list of files avaliable in env_saves_dir\n",
    "date_files = [x for x in os.listdir(dates_dir) if 'nh_test' in x and 'nwm' in x and 'daymet' not in x]\n",
    "\n",
    "#Initiate dictionary to store all loaded cdfs files\n",
    "test_dates_dict = {}\n",
    "\n",
    "exp_types = []\n",
    "\n",
    "#For every file in cdfs_list...\n",
    "for date in date_files:\n",
    "\n",
    "    #Define path to the file\n",
    "    path = dates_dir / date\n",
    "    \n",
    "    name = str(date.split('_')[2]) + '_' + str(date.split('_nwm_')[-1].split('.')[0])\n",
    "    \n",
    "    exp_type,experiment = name.split('_',1)\n",
    "    \n",
    "    if exp_type not in exp_types:\n",
    "        \n",
    "        exp_types.append(exp_type)\n",
    "        \n",
    "    #Open path...\n",
    "    with open(path,'rb') as f:\n",
    "        #...and load\n",
    "        test_dates_dict[experiment] = pkl.load(f)\n",
    "        \n",
    "experiments = list(test_dates_dict.keys())\n",
    "basins = list(test_dates_dict[experiments[0]].keys())"
   ]
  },
  {
   "cell_type": "markdown",
   "id": "2bf50fb2",
   "metadata": {},
   "source": [
    "##### Create test year ranges from start/end dates"
   ]
  },
  {
   "cell_type": "code",
   "execution_count": 7,
   "id": "255c759a",
   "metadata": {},
   "outputs": [],
   "source": [
    "#Initialize dictionary containing date ranges sourced from start/end date values from test_dates_dict\n",
    "test_years_dict = {}\n",
    "\n",
    "#For every experiment...\n",
    "for experiment in experiments:\n",
    "    \n",
    "    #Initialize experiment level\n",
    "    test_years_dict[experiment] = {}\n",
    "    \n",
    "    #For every basin...\n",
    "    for basin in test_dates_dict[experiment].keys():\n",
    "        \n",
    "        #Initialize throwaway list to contain date ranges\n",
    "        all_dates = []\n",
    "        \n",
    "        #Define which experiment/basin we are looking at\n",
    "        loc_in_dict = test_dates_dict[experiment][basin]\n",
    "        \n",
    "        #For every start/end date pair...\n",
    "        for start,end in zip(loc_in_dict['start_dates'],loc_in_dict['end_dates']):\n",
    "            \n",
    "            #Create date range starting with start date and ending with end date\n",
    "            dates = pd.date_range(start,end,freq='D')\n",
    "            #Append those to all_dates\n",
    "            all_dates.append(dates)\n",
    "            \n",
    "        #Save all of those dates to test_years_dict\n",
    "        test_years_dict[experiment][basin] = pd.DatetimeIndex(np.unique(np.hstack(all_dates)))"
   ]
  },
  {
   "cell_type": "markdown",
   "id": "6cd057fc",
   "metadata": {},
   "source": [
    "##### Relate CAMELS IDs to NWM Keys"
   ]
  },
  {
   "cell_type": "markdown",
   "id": "ebbe8d3d",
   "metadata": {},
   "source": [
    "The basins used for NWM calibration extend far beyond the basins found in the CAMELS dataset and are also identified using different schemes. Here, we make the connection between the data using the NWM keys (keys_ids_df) and reindex them using the CAMELS IDs (nwm_fixed) so we can relate them to our climate experiment runs."
   ]
  },
  {
   "cell_type": "code",
   "execution_count": 8,
   "id": "6bff15e1",
   "metadata": {},
   "outputs": [],
   "source": [
    "#Initiate dictionaries\n",
    "keys_ids_df = pd.DataFrame()\n",
    "keys_ids_df['nwm_keys'] = nwm.keys()\n",
    "keys_ids_df['camels_id'] = camels_nwm_basins \n",
    "nwm_fixed = {experiment: {} for experiment in experiments}\n",
    "\n",
    "#For every experiment...\n",
    "for experiment in experiments:\n",
    "    \n",
    "    #And for every nwm key, camels id pair\n",
    "    for key,basin in zip(keys_ids_df['nwm_keys'],keys_ids_df['camels_id']):\n",
    "\n",
    "        #Load simulations for a basin into a basin's dataframe\n",
    "        nwm_fixed[experiment][basin] = nwm[key]"
   ]
  },
  {
   "cell_type": "markdown",
   "id": "31edb622",
   "metadata": {},
   "source": [
    "##### Convert and scale simulations"
   ]
  },
  {
   "cell_type": "markdown",
   "id": "e0043327",
   "metadata": {},
   "source": [
    "Now that we have made the connection between NWM keys and replaced them with CAMELS IDs, we need to scale the NWM simulations to match the USGS observed streamflow data. For this we need to define several conversion factors."
   ]
  },
  {
   "cell_type": "code",
   "execution_count": 9,
   "id": "3948cdac",
   "metadata": {},
   "outputs": [],
   "source": [
    "#Retrieve area index information from attributes for conversion\n",
    "area_index='area_geospa_fabric'\n",
    "\n",
    "#Define conversion values\n",
    "#Seconds in a day\n",
    "sid = 60*60*24\n",
    "#Meters in a kilometer\n",
    "mikm = 0.001\n",
    "#Millimeters in a meter\n",
    "mmim = 0.001"
   ]
  },
  {
   "cell_type": "markdown",
   "id": "44d63e81",
   "metadata": {},
   "source": [
    "Now we take the data from nwm_fixed and covert and save it into nwm_scaled."
   ]
  },
  {
   "cell_type": "code",
   "execution_count": 10,
   "id": "3be22136",
   "metadata": {},
   "outputs": [],
   "source": [
    "#Create dictionary to contain converted streamflow values\n",
    "nwm_scaled = {}\n",
    "\n",
    "for experiment in experiments:\n",
    "    \n",
    "    nwm_scaled[experiment] = {}\n",
    "    \n",
    "    #For every basin...\n",
    "    for i, basin in enumerate(basins):  \n",
    "        \n",
    "        basin = int(basin)\n",
    "\n",
    "        #Create a dictionary entry for a basin\n",
    "        nwm_scaled[experiment][basin] = []\n",
    "        #Retreive area index attribute for a basin\n",
    "        A = attributes.loc[basin, area_index]\n",
    "        #Create conversion factor using conversion values defined above\n",
    "        conversion_factor = sid * mmim / A\n",
    "        #Multiply conversion factor by nwm simulation values and save into nwm_scaled\n",
    "        nwm_scaled[experiment][basin] = conversion_factor * nwm_fixed[experiment][basin]['NWM_RUN']"
   ]
  },
  {
   "cell_type": "markdown",
   "id": "5f3c2e30",
   "metadata": {},
   "source": [
    "### Calculate Metrics"
   ]
  },
  {
   "cell_type": "markdown",
   "id": "c78c633a",
   "metadata": {},
   "source": [
    "Now we want to calculate metrics for the NWM run."
   ]
  },
  {
   "cell_type": "code",
   "execution_count": 11,
   "id": "301bf97a",
   "metadata": {},
   "outputs": [],
   "source": [
    "#Create a dictionary to contain metrics for each experiment type (extreme/random)\n",
    "exp_type_metrics_dict = {exp_type: {} for exp_type in exp_types}\n",
    "\n",
    "#For every experiment\n",
    "for experiment in experiments:\n",
    "\n",
    "    #If it is an extreme experiment...\n",
    "    if 'high' in experiment or 'low' in experiment:\n",
    "\n",
    "        #Set experiment type to extreme to key into exp_type_metrics_dict\n",
    "        exp_type = 'extreme'\n",
    "\n",
    "    #If its a random experiment...\n",
    "    else:\n",
    "        \n",
    "        #Set experiment type to random\n",
    "        exp_type = 'random'\n",
    "    \n",
    "    #If the nwm benchmark metrics file does not already exist OR we want to overwrite it...\n",
    "    if not os.path.exists(env_saves_dir / f'basin_metrics_nwm_{exp_type}_nldas_extended_nwm.pkl') or overwrite == True:\n",
    "\n",
    "        #Create dataframe for an experiment\n",
    "        exp_type_metrics_dict[exp_type][experiment] = pd.DataFrame(index=basins,columns=metrics_names)\n",
    "\n",
    "        print(f'Calculating metrics for {experiment}...')\n",
    "\n",
    "        #For every metric to be calculated...\n",
    "        for name,func in zip(tqdm(metrics_names),metrics):\n",
    "\n",
    "            #For every basin...\n",
    "            for basin in basins:\n",
    "\n",
    "                #Create a list of test dates stacked into one datetime index\n",
    "                mask = test_years_dict[experiment][basin]\n",
    "\n",
    "                #Get observed values for the dates in the mask\n",
    "                obs = usgs[basin].loc[mask]\n",
    "\n",
    "                #Get simualted values for the dates in the mask\n",
    "                sim = nwm_scaled[experiment][int(basin)].loc[mask].clip(0)\n",
    "\n",
    "                #Calculate metrics between observed and simulated streamflow values\n",
    "                exp_type_metrics_dict[exp_type][experiment][name].loc[basin] = func(obs,sim)\n"
   ]
  },
  {
   "cell_type": "code",
   "execution_count": 12,
   "id": "2ab118f5",
   "metadata": {},
   "outputs": [],
   "source": [
    "#For each experiment type (random/extreme)\n",
    "for exp_type in exp_types:\n",
    "    \n",
    "    #If the nwm basin metrics file doesn't exist or we want to overwrite it...\n",
    "    if not os.path.exists(env_saves_dir / f'basin_metrics_nwm_{exp_type}_nldas_extended_nwm.pkl') or overwrite == True:\n",
    "    \n",
    "        #Save metrics_dict\n",
    "        with open(env_saves_dir / f'basin_metrics_nwm_{exp_type}_nldas_extended_nwm.pkl', 'wb') as f:\n",
    "            pkl.dump(exp_type_metrics_dict[exp_type], f)\n",
    "\n",
    "    #If the file already exists and we don't want to overwrite it...\n",
    "    else:\n",
    "\n",
    "        #Load nwm metrics dict\n",
    "        with open(env_saves_dir / f'basin_metrics_nwm_{exp_type}_nldas_extended_nwm.pkl', 'rb') as f:\n",
    "            exp_type_metrics_dict[exp_type] = pkl.load(f) \n"
   ]
  },
  {
   "cell_type": "markdown",
   "id": "08527a60",
   "metadata": {},
   "source": [
    "##### Create CDF dictionary"
   ]
  },
  {
   "cell_type": "code",
   "execution_count": 13,
   "id": "6ca2511c",
   "metadata": {},
   "outputs": [],
   "source": [
    "#Initiate cdf dictionary\n",
    "cdfs = {exp_type: {} for exp_type in exp_types}\n",
    "\n",
    "#For every experiment\n",
    "for experiment in experiments:\n",
    "    \n",
    "    #If it is an extreme experiment...\n",
    "    if 'high' in experiment or 'low' in experiment:\n",
    "        \n",
    "        #Set experiment type to extreme to key into exp_type_metrics_dict\n",
    "        exp_type = 'extreme'\n",
    "\n",
    "    else:\n",
    "\n",
    "        exp_type = 'random'\n",
    "        \n",
    "    \n",
    "    #If the nwm cdfs dict file does not already exist OR we want to overwrite it...\n",
    "    if not os.path.exists(env_saves_dir / f'cdfs_nwm_{exp_type}_nldas_extended_nwm.pkl') or overwrite == True:\n",
    " \n",
    "        #Create dataframe for an experiment\n",
    "        cdfs[exp_type][experiment] = {}\n",
    "        \n",
    "        #And for every metric...\n",
    "        for metric in metrics_names:\n",
    "\n",
    "            #Create a sub-dict for that metric\n",
    "            cdfs[exp_type][experiment][metric] = {}\n",
    "\n",
    "            #Sort the metric values in increasing order\n",
    "            x = np.sort(exp_type_metrics_dict[exp_type][experiment][metric].dropna(axis=0))\n",
    "            #Create range based on length of x\n",
    "            y = np.arange(len(x))/(float(len(x)))\n",
    "            #Make y a list\n",
    "            y = y.tolist()\n",
    "\n",
    "            #Initialize metric levl\n",
    "            cdfs[exp_type][experiment][metric] = {}\n",
    "\n",
    "            #Save x and y lists in cdfs dictionary\n",
    "            cdfs[exp_type][experiment][metric]['x'] = x\n",
    "            cdfs[exp_type][experiment][metric]['y'] = y"
   ]
  },
  {
   "cell_type": "code",
   "execution_count": 14,
   "id": "edaa48a7",
   "metadata": {},
   "outputs": [],
   "source": [
    "#For each experiment type (random/extreme)\n",
    "for exp_type in exp_types:\n",
    "    \n",
    "    #If the nwm cdfs dict file does not already exist OR we want to overwrite it...\n",
    "    if not os.path.exists(env_saves_dir / f'cdfs_nwm_{exp_type}_nldas_extended_nwm.pkl') or overwrite == True:\n",
    "    \n",
    "        #Save metrics_dict\n",
    "        with open(env_saves_dir / f'cdfs_nwm_{exp_type}_nldas_extended_nwm.pkl', 'wb') as f:\n",
    "            pkl.dump(cdfs[exp_type], f)\n",
    "\n",
    "    #If the file already exists and we don't want to overwrite it...\n",
    "    else:\n",
    "\n",
    "        #Load metrics dict\n",
    "        with open(env_saves_dir / f'cdfs_nwm_{exp_type}_nldas_extended_nwm.pkl', 'rb') as f:\n",
    "            cdfs[exp_type] = pkl.load(f) \n",
    "            "
   ]
  },
  {
   "cell_type": "markdown",
   "id": "68e52cf3",
   "metadata": {},
   "source": [
    "##### Plot metric CDFs"
   ]
  },
  {
   "cell_type": "code",
   "execution_count": 15,
   "id": "c1ba96ab",
   "metadata": {},
   "outputs": [
    {
     "data": {
      "image/png": "[encoded data removed]",
      "text/plain": [
       "<Figure size 432x288 with 1 Axes>"
      ]
     },
     "metadata": {
      "needs_background": "light"
     },
     "output_type": "display_data"
    }
   ],
   "source": [
    "#Set r to 0 to keep count of how many random lines we are plotting\n",
    "r = 0\n",
    "\n",
    "#For every experiment...\n",
    "for experiment in experiments:\n",
    "    \n",
    "    #For every metric...\n",
    "    for metric in plot_metrics:\n",
    "        \n",
    "        ax = metric_axes_dict[metric]\n",
    "\n",
    "        #If experiment type is extreme...\n",
    "        if 'high' in experiment or 'low' in experiment:\n",
    "\n",
    "            #Set exp_type to extreme\n",
    "            exp_type = 'extreme'\n",
    "            \n",
    "            #Retrieve x and y from cdfs dict\n",
    "            x = cdfs[exp_type][experiment][metric]['x']\n",
    "            y = cdfs[exp_type][experiment][metric]['y']\n",
    "\n",
    "            #Set default color and alpha\n",
    "            c = 'r'\n",
    "            alpha = 1\n",
    "\n",
    "            #If it was a 'low' experiment...\n",
    "            if 'low' in experiment:\n",
    "\n",
    "                #Decrease the alpha to make it a lighter color\n",
    "                alpha = 0.4\n",
    "                \n",
    "            #Plot extreme cdf line\n",
    "            plt.plot(x,y,c=c,alpha=alpha,label=experiment)\n",
    "\n",
    "        #If experiment type is not extreme...\n",
    "        else:\n",
    "\n",
    "            #Set exp_type to random\n",
    "            exp_type = 'random'\n",
    "            \n",
    "            #Retrieve x and y from cdfs dict\n",
    "            x = cdfs[exp_type][experiment][metric]['x']\n",
    "            y = cdfs[exp_type][experiment][metric]['y']\n",
    "\n",
    "            #Add 1 to r variable, make line grey, line width 1, and decrease alpha\n",
    "            r = r + 1\n",
    "            c = 'grey'\n",
    "            alpha = 0.6\n",
    "\n",
    "            if r == 1:\n",
    "                \n",
    "                #Plot random cdf line with label\n",
    "                plt.plot(x,y,c=c,alpha=alpha,label='random')\n",
    "\n",
    "            else:\n",
    "                #Plot random cdf line with no label\n",
    "                plt.plot(x,y,c=c,alpha=alpha)\n",
    "\n",
    "#Plot grid\n",
    "plt.grid()\n",
    "#Show legend\n",
    "plt.legend()\n",
    "#Set axis\n",
    "plt.axis(ax)\n",
    "#Set title\n",
    "plt.title('NWM Benchmark Runs')\n",
    "#Set x label\n",
    "plt.xlabel(f'{metric.upper()}')\n",
    "#Set y label\n",
    "plt.ylabel('Frequency (among 531 basins)')\n",
    "\n",
    "#Show plot\n",
    "plt.tight_layout()"
   ]
  },
  {
   "cell_type": "markdown",
   "id": "05519a8f",
   "metadata": {},
   "source": [
    "Now we have NWM benchmark runs we can plot with the rest of our climate experiments."
   ]
  },
  {
   "cell_type": "markdown",
   "id": "89081321",
   "metadata": {},
   "source": [
    "**REMINDER:** This notebook contains modified code from notebook 3a to calculate the NWM benchmark test metrics. **A more detailed walkthrough of this process is documented there.**"
   ]
  }
 ],
 "metadata": {
  "kernelspec": {
   "display_name": "Python 3 (ipykernel)",
   "language": "python",
   "name": "python3"
  },
  "language_info": {
   "codemirror_mode": {
    "name": "ipython",
    "version": 3
   },
   "file_extension": ".py",
   "mimetype": "text/x-python",
   "name": "python",
   "nbconvert_exporter": "python",
   "pygments_lexer": "ipython3",
   "version": "3.7.11"
  }
 },
 "nbformat": 4,
 "nbformat_minor": 5
}
