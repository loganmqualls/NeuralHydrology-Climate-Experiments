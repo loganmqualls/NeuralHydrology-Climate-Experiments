{
 "cells": [
  {
   "cell_type": "markdown",
   "id": "949d4f7a",
   "metadata": {},
   "source": [
    "# Metric Degradation Histograms"
   ]
  },
  {
   "cell_type": "markdown",
   "id": "e79def6b",
   "metadata": {},
   "source": [
    "F3/F3"
   ]
  },
  {
   "cell_type": "markdown",
   "id": "28f5da08",
   "metadata": {},
   "source": [
    "This notebook was written by Logan Qualls. Data for this work is sourced from the National Center for Atmospheric Research's Catchment Attributes and Meterology for Large-Sample Studies (CAMELS) dataset, and this notebook is designed to work specifically with Frederik Kratzert's NeuralHydrology (NH; https://github.com/neuralhydrology/neuralhydrology) and Grey Nearing's SACSMA-SNOW17 (SAC-SMA; https://github.com/Upstream-Tech/SACSMA-SNOW17). NH provides a flexible framework with a variety of tools specifically designed for straightforward application of Long Short-Term Memory networks to hydrological modeling. The SACSMA-SNOW17 model provides a Python interface for the SAC-SMA model."
   ]
  },
  {
   "cell_type": "markdown",
   "id": "acc418bd",
   "metadata": {},
   "source": [
    "This notebook creates histograms binning basins according to their change in predictive performance metric (NSE) in a defined extreme model from the corresponding random, or unbiased, model. In other words, the histograms plots predictive degradation in a basin due to biased train/test sets."
   ]
  },
  {
   "cell_type": "markdown",
   "id": "bdde29ab",
   "metadata": {},
   "source": [
    "### Import Libraries"
   ]
  },
  {
   "cell_type": "code",
   "execution_count": 1,
   "id": "8282610b",
   "metadata": {},
   "outputs": [],
   "source": [
    "#Import Python libraries\n",
    "import os\n",
    "import sys\n",
    "import copy\n",
    "import glob\n",
    "import xarray\n",
    "import logging\n",
    "import numpy as np\n",
    "from os import path\n",
    "import pandas as pd\n",
    "import pickle as pkl\n",
    "from functions import * #load the million neuralhydrology functions I use here\n",
    "from pathlib import Path\n",
    "import statistics\n",
    "from ruamel.yaml import YAML\n",
    "from tqdm.notebook import tqdm\n",
    "from scipy import stats, signal\n",
    "import matplotlib.pyplot as plt\n",
    "from pathlib import Path, PosixPath\n",
    "from typing import Dict, List, Tuple, Union\n",
    "from xarray.core.dataarray import DataArray"
   ]
  },
  {
   "cell_type": "markdown",
   "id": "b2cbac5c",
   "metadata": {},
   "source": [
    "### Define Parameters"
   ]
  },
  {
   "cell_type": "markdown",
   "id": "76588e48",
   "metadata": {},
   "source": [
    "##### Experiment Parameters"
   ]
  },
  {
   "cell_type": "markdown",
   "id": "d5065544",
   "metadata": {},
   "source": [
    "We need to define which two models we want to compare. Here, I compare the SAC-SMA and LSTM (static climate inputs) models trained with forcing data from NLDAS on train/test years extracted from the total CAMELS date range, as opposed to the \"nwm\" date range (1995-2014). "
   ]
  },
  {
   "cell_type": "markdown",
   "id": "5ff37e28",
   "metadata": {},
   "source": [
    "Adjustments necessary to allow for same-model comparison."
   ]
  },
  {
   "cell_type": "code",
   "execution_count": 2,
   "id": "b2fc86d5",
   "metadata": {},
   "outputs": [],
   "source": [
    "#########################################################################################\n",
    "\n",
    "#Define two model types to compare (xxx = [model1 attribute,model2 attribute])\n",
    "models = ['sacsma','nh']\n",
    "inp = 'static'\n",
    "forcing = 'nldas_extended'\n",
    "year = 'all'\n",
    "\n",
    "#########################################################################################\n",
    "\n",
    "index = 'aridity'\n",
    "\n",
    "#########################################################################################\n",
    "\n",
    "metric = 'nse'\n",
    "\n",
    "#########################################################################################"
   ]
  },
  {
   "cell_type": "markdown",
   "id": "1ae22464",
   "metadata": {},
   "source": [
    "##### Paths"
   ]
  },
  {
   "cell_type": "code",
   "execution_count": 3,
   "id": "8411b17d",
   "metadata": {},
   "outputs": [],
   "source": [
    "#########################################################################################\n",
    "\n",
    "#Path to working_dir (current directory)\n",
    "working_dir = Path(os.getcwd())\n",
    "\n",
    "#########################################################################################\n",
    "\n",
    "#If you use this repository's directory structure, you not need to edit the paths below, but just in case...\n",
    "\n",
    "#Path to NH codebase (../neuralhydrology/neuralhydrology)\n",
    "nh_dir = working_dir / 'neuralhydrology' / 'neuralhydrology'\n",
    "\n",
    "#Path to main CAMELS directory (../camels)\n",
    "camels_dir = working_dir / 'camels'\n",
    "\n",
    "#Path to CAMELS forcing directory (../basin_dataset_public_v1p2)\n",
    "camels_forcing_dir = camels_dir / 'basin_dataset_public_v1p2'\n",
    "\n",
    "#Path to CAMELS attributes, version 2 file\n",
    "camels_attributes_dir  = camels_dir / 'camels_attributes_v2.0/camels_attributes_v2.0.csv'\n",
    "\n",
    "# Path to notebook_env_saves\n",
    "env_saves_dir = working_dir / 'notebook_env_saves'\n",
    "\n",
    "#Path to nwm basin list\n",
    "nwm_480 = working_dir / 'config_complementaries' / 'nwm' / 'nwm_480_basins.txt'\n",
    "\n",
    "#########################################################################################"
   ]
  },
  {
   "cell_type": "markdown",
   "id": "8a77f3cd",
   "metadata": {},
   "source": [
    "##### Notebook Configurations"
   ]
  },
  {
   "cell_type": "code",
   "execution_count": 4,
   "id": "2d06888c",
   "metadata": {},
   "outputs": [],
   "source": [
    "plt.rcParams['axes.axisbelow'] = True"
   ]
  },
  {
   "cell_type": "markdown",
   "id": "c63284db",
   "metadata": {},
   "source": [
    "You should not have to edit anything below this cell"
   ]
  },
  {
   "cell_type": "code",
   "execution_count": 5,
   "id": "28ee9883",
   "metadata": {},
   "outputs": [],
   "source": [
    "exp_types = ['random','extreme']"
   ]
  },
  {
   "cell_type": "markdown",
   "id": "afec8270",
   "metadata": {},
   "source": [
    "### Load Source Data"
   ]
  },
  {
   "cell_type": "code",
   "execution_count": 6,
   "id": "d15061d8",
   "metadata": {},
   "outputs": [],
   "source": [
    "#Retreive list of cdfs files avaliable in env_saves_dir\n",
    "metrics_list = [x for x in os.listdir(env_saves_dir) if x.startswith('basin_metrics')]\n",
    "\n",
    "#Initiate dictionary to hold basin_metrics dictionarities (created in notebook 3)\n",
    "metrics_dict = {}\n",
    "\n",
    "#For each model...\n",
    "for model in models:\n",
    "\n",
    "    #For each experiment type (random & extreme)...\n",
    "    for exp_type in exp_types:\n",
    "\n",
    "        #If we are looking at an NH LSTM run...\n",
    "        if model == 'nh':\n",
    "            \n",
    "            #Use the corresponding naming convention\n",
    "            name = f'{model}_{inp}_{exp_type}_{forcing}_{year}'\n",
    "            \n",
    "        #If we are looking at a SAC-SMA run...\n",
    "        if model == 'sacsma' or model == 'nwm':\n",
    "            \n",
    "            #Use the corresponding naming convention\n",
    "            name = f'{model}_{exp_type}_{forcing}_{year}'\n",
    "\n",
    "        #Manually construct a filename from name variable (assuming it already exists; sanity check)\n",
    "        metrics_file = f'basin_metrics_{name}.pkl'\n",
    "        \n",
    "        #Try to...\n",
    "        try:\n",
    "\n",
    "            #Open the basin_metrics file...\n",
    "            with open(Path(env_saves_dir / metrics_file),'rb') as f:\n",
    "\n",
    "                #Load it\n",
    "                metric_data = pkl.load(f)\n",
    "\n",
    "            #Save dictionary under model name\n",
    "            metrics_dict[name] = metric_data\n",
    "        \n",
    "        #If that doesn't work... continue to the next\n",
    "        except: continue"
   ]
  },
  {
   "cell_type": "code",
   "execution_count": 7,
   "id": "fefec3bd",
   "metadata": {},
   "outputs": [],
   "source": [
    "#List of all model names from metrics_dict\n",
    "model_names = list(metrics_dict.keys())\n",
    "\n",
    "#Lists of extreme and random model names (parsed by exp_type in name)\n",
    "rand_models = [x for x in model_names if 'random' in x]\n",
    "ext_models = [x for x in model_names if 'extreme' in x]\n",
    "\n",
    "#List of extreme and random experiment names (use example models to retrieve experiment names)\n",
    "rand_exps = list(metrics_dict[rand_models[0]].keys())\n",
    "ext_exps = list(metrics_dict[ext_models[0]].keys())\n",
    "ext_exps = [x for x in ext_exps if index in x]\n",
    "\n",
    "#List of all avaliable experiments\n",
    "experiments = rand_exps + ext_exps\n",
    "\n",
    "#Retrieve list of metrics using example model\n",
    "metrics = list(metrics_dict[ext_models[0]][ext_exps[0]].keys())"
   ]
  },
  {
   "cell_type": "code",
   "execution_count": 8,
   "id": "58bc5725",
   "metadata": {},
   "outputs": [],
   "source": [
    "#If one of the models is the NWM Benchmark run...\n",
    "if 'nwm' in models:\n",
    "    \n",
    "    #Read in NWM CAMELS basin list\n",
    "    with open(nwm_480, 'r') as f:\n",
    "        nwm_480 = f.read()\n",
    "        \n",
    "    #Parse string\n",
    "    basins = nwm_480.split('\\n')\n",
    "    \n",
    "    #List of basins of type int\n",
    "    basins_int = [int(x) for x in basins]\n",
    "    \n",
    "else:\n",
    "    \n",
    "    #Retrieve list of nwm basins ONLY and use as basin list\n",
    "    basins = list(metrics_dict[ext_models[0]][ext_exps[0]][metrics[0]].index)\n",
    "    \n",
    "    #List of nwm basins of type int\n",
    "    basins_int = [int(x) for x in basins]"
   ]
  },
  {
   "cell_type": "markdown",
   "id": "5e15e472",
   "metadata": {},
   "source": [
    "### Plot Histograms"
   ]
  },
  {
   "cell_type": "code",
   "execution_count": 9,
   "id": "90baf759",
   "metadata": {},
   "outputs": [],
   "source": [
    "#Create a dictionary containing the mean median NSE scores for the random models and their experiments\n",
    "rand_dict = {model: [] for model in rand_models}\n",
    "\n",
    "#For each random model...\n",
    "for model in rand_models:\n",
    "    \n",
    "    #And for each random experiment...\n",
    "    for exp in rand_exps:\n",
    "    \n",
    "        #Append it's series of basin NSE scores into a list\n",
    "        rand_dict[model].append(metrics_dict[model][exp][metric])\n",
    "    \n",
    "    #Concat list of series to get average nse scores for all random experiments\n",
    "    rand_dict[model] = np.mean(pd.concat(rand_dict[model],axis=1),axis=1)"
   ]
  },
  {
   "cell_type": "code",
   "execution_count": 10,
   "id": "636b1a0f",
   "metadata": {},
   "outputs": [],
   "source": [
    "#Define function to format experiment name for plot labels\n",
    "def col_name(exex):\n",
    "    #Split the model name by '_'\n",
    "    xs = exex.split('_')\n",
    "    #Capitalize each element\n",
    "    xs = [x.capitalize() for x in xs]\n",
    "    #Rejoin with a space\n",
    "    xs = ' '.join(xs)\n",
    "    #Return new string\n",
    "    return xs"
   ]
  },
  {
   "cell_type": "code",
   "execution_count": 11,
   "id": "47582d4c",
   "metadata": {
    "scrolled": false
   },
   "outputs": [
    {
     "data": {
      "image/png": "[encoded data removed]",
      "text/plain": [
       "<Figure size 576x648 with 2 Axes>"
      ]
     },
     "metadata": {
      "needs_background": "light"
     },
     "output_type": "display_data"
    }
   ],
   "source": [
    "#Define bin range and number for histogram\n",
    "bins = np.linspace(-1,1,50)\n",
    "\n",
    "#Create 2x1 figure\n",
    "fig,axs= plt.subplots(2,1,figsize=(8,9))\n",
    "\n",
    "#For each extreme experiment...\n",
    "for i,exp in enumerate(ext_exps):\n",
    "    \n",
    "    #Create formatted experiment name\n",
    "    title = col_name(exp)\n",
    "    \n",
    "    #Assign default plot params\n",
    "    c = 'r'\n",
    "    alpha = 1\n",
    "    \n",
    "    #For each extreme/random model pair...\n",
    "    for modele,modelr in zip(ext_models,rand_models):\n",
    "        \n",
    "        #Retrieve per-basin random NSE scores\n",
    "        rand = rand_dict[modelr][basins]\n",
    "        \n",
    "        #If the model name contains 'sacsma'... (histogram color changes with model type)\n",
    "        if 'sacsma' in modele:\n",
    "            alpha = 0.7\n",
    "            c = 'royalblue'\n",
    "\n",
    "        #If the model name contains 'nh'...\n",
    "        if 'nh' in modele:\n",
    "            alpha = 0.4\n",
    "            c = 'r'\n",
    "            \n",
    "        #If the model name contains 'nwm'...\n",
    "        if 'nwm_' in modele:\n",
    "            alpha = 0.5\n",
    "            c = 'gold'\n",
    "        \n",
    "        #Retrieve per-basin extreme NSE scores for an experiment...\n",
    "        ext = metrics_dict[modele][exp][metric][basins]\n",
    "        \n",
    "        #Calculate NSE difference (degradation)\n",
    "        diff = ext - rand\n",
    "        \n",
    "        #Drop problem basin (optional)\n",
    "        diff = diff.drop(labels = ['08202700']) #AVE NSE of inf\n",
    "        \n",
    "        #Plot histogram based on parameters\n",
    "        axs[i].hist(diff,bins,color=c,alpha=alpha,label=col_name(modele))\n",
    "    \n",
    "    #Plot vertical line at 0\n",
    "    axs[i].plot([0,0],[0,150],'k')\n",
    "        \n",
    "    #Format plot\n",
    "    axs[i].legend()\n",
    "    axs[i].grid(alpha=0.5)\n",
    "    axs[i].set_ylim(0,120)\n",
    "    axs[i].set_title(title,fontsize=15)\n",
    "    \n",
    "    #Only show x labels for outter plots\n",
    "    for ax in axs.flat:\n",
    "        ax.label_outer() \n",
    "    \n",
    "    #Set x-axis label\n",
    "    axs[i].set_xlabel(f'{metric.upper()} Difference',fontsize=12)\n",
    "    \n",
    "    #If one of the models is a nwm run, we are only comparing the nwm basins\n",
    "    if 'nwm_' in models:\n",
    "        \n",
    "        #Set y-axis label\n",
    "        axs[i].set_ylabel('Number of CAMELS Basins (out of 480)',fontsize=12)\n",
    "    \n",
    "    #Otherwise...\n",
    "    else:\n",
    "        #Set y-axis label\n",
    "        axs[i].set_ylabel('Number of CAMELS Basins (out of 531)',fontsize=12)\n",
    "\n",
    "#Show plot\n",
    "plt.tight_layout()"
   ]
  },
  {
   "cell_type": "markdown",
   "id": "4e89d5d9",
   "metadata": {},
   "source": [
    "### Extra Code"
   ]
  },
  {
   "cell_type": "code",
   "execution_count": 14,
   "id": "64652ed1",
   "metadata": {},
   "outputs": [
    {
     "name": "stdout",
     "output_type": "stream",
     "text": [
      "sacsma_extreme_nldas_extended_all, sacsma_random_nldas_extended_all\n",
      "nh_static_extreme_nldas_extended_all, nh_static_random_nldas_extended_all\n"
     ]
    }
   ],
   "source": [
    "#make sure these correspond\n",
    "for modele,modelr in zip(ext_models,rand_models):\n",
    "    print(f'{modele}, {modelr}')"
   ]
  }
 ],
 "metadata": {
  "kernelspec": {
   "display_name": "Python 3",
   "language": "python",
   "name": "python3"
  },
  "language_info": {
   "codemirror_mode": {
    "name": "ipython",
    "version": 3
   },
   "file_extension": ".py",
   "mimetype": "text/x-python",
   "name": "python",
   "nbconvert_exporter": "python",
   "pygments_lexer": "ipython3",
   "version": "3.7.9"
  }
 },
 "nbformat": 4,
 "nbformat_minor": 5
}
