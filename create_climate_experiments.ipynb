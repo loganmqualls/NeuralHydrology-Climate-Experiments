{
 "cells": [
  {
   "cell_type": "markdown",
   "metadata": {},
   "source": [
    "## Create Extreme Year Experiments"
   ]
  },
  {
   "cell_type": "markdown",
   "metadata": {},
   "source": [
    "Notebook 1/X"
   ]
  },
  {
   "cell_type": "markdown",
   "metadata": {},
   "source": [
    "This notebook was written by Logan Qualls. Data for this work is sourced from the National Center for Atmospheric Research's Catchment Attributes and Meterology for Large-Sample Studies (CAMELS) dataset, and this notebook is designed to work specifically with Frederik Kratzert's NeuralHydrology (NH; https://github.com/neuralhydrology/neuralhydrology) and Grey Nearing's SACSMA-SNOW17 (SAC-SMA; https://github.com/Upstream-Tech/SACSMA-SNOW17). NH provides a flexible framework with a variety of tools specifically designed for straightforward application of Long Short-Term Memory networks to hydrological modeling. The SACSMA-SNOW17 model provides a Python interface for the SAC-SMA model."
   ]
  },
  {
   "cell_type": "markdown",
   "metadata": {},
   "source": [
    "As climate change continues to impact our world, it becomes increasingly important to understand the robustness of our best (Long Short-Term Memory networks), and most commonly used (conceptual models like SAC-SMA), hydrological models. To begin characterizing model robustness we need to design experiments that simulate a changing climate within the models, or simulated climate nonstationarity. This notebook creates 1) pickled dictionaries of per-basin train and test dates to be included in the NH configuration files and 2) configuration files, both in NH's configuration format, for the NH LSTM model as well as the SAC-SMA model."
   ]
  },
  {
   "cell_type": "markdown",
   "metadata": {},
   "source": [
    "Outputs from this notebook are all pickled dictionaries and include 1) climate indices (optional), 2) train & test dates, and 3) configuration files (.yml) for NH & SAC-SMA."
   ]
  },
  {
   "cell_type": "markdown",
   "metadata": {},
   "source": [
    "### Import Libraries"
   ]
  },
  {
   "cell_type": "code",
   "execution_count": 1,
   "metadata": {},
   "outputs": [],
   "source": [
    "#Automatically reload modules; ensures most recent versions\n",
    "%load_ext autoreload\n",
    "%autoreload 2"
   ]
  },
  {
   "cell_type": "code",
   "execution_count": 2,
   "metadata": {},
   "outputs": [],
   "source": [
    "#Import Python libraries\n",
    "import os\n",
    "import sys\n",
    "import copy\n",
    "import random\n",
    "import numpy as np\n",
    "import pandas as pd\n",
    "import pickle as pkl\n",
    "from pathlib import Path\n",
    "import statistics as stats\n",
    "from tqdm.notebook import tqdm\n",
    "import matplotlib.pyplot as plt"
   ]
  },
  {
   "cell_type": "markdown",
   "metadata": {},
   "source": [
    "### Define Parameters"
   ]
  },
  {
   "cell_type": "markdown",
   "metadata": {},
   "source": [
    "This is the only section you will need to edit code in."
   ]
  },
  {
   "cell_type": "markdown",
   "metadata": {},
   "source": [
    "##### Most Important Experiment Parameters"
   ]
  },
  {
   "cell_type": "markdown",
   "metadata": {},
   "source": [
    "First, we define which models we want to create dynamic indices (the default being dynamic mean precipitation and dynamic mean aridity), train & test dates, and configurations for. Options for each variable are listed (ex.- 'x' or 'y') in the comments above the variables. The \"inputs\" variable refers to how climate indexes will be input into the model, either statically or dynamically. The \"exp_type\" variable, short for \"experiment type\", refers to the type of data the model will be trained/tested on. Will the resulting train/test sets consist of years chosen based on their extreme climate index value (simulating climate nonstationarity) or will they be chosen randomly (for a benchmark model)? The \"forcing\" variable refers to which CAMELS forcing source the model will use (note: the National Water Model (NWM) uses NLDAS). Finally, the \"years\" variable refers to the range of years we want to pull the train/test set years from: we can use all years avaliable in CAMELS (1980-2014) _or_ we can clip the index to only include years also avalible for the National Water Model (1995-2014). This option is provided so that the NWM can be used as a benchmark."
   ]
  },
  {
   "cell_type": "code",
   "execution_count": 3,
   "metadata": {},
   "outputs": [],
   "source": [
    "#########################################################################################\n",
    "\n",
    "#Create SAC-SMA configuration files? \n",
    "sacsma = False\n",
    "#Create NH configuration files?\n",
    "nh = True\n",
    "\n",
    "#Climate index input type: 'static' (Addor et al., 2017) or 'dynamic'?\n",
    "# NOTE: SAC-SMA does not accept static or dynamic climate inputs\n",
    "inputs = 'dynamic'\n",
    "\n",
    "#Experiment type: train/test on 'extreme' or 'random' years?\n",
    "exp_type = 'random'\n",
    "\n",
    "#Forcing source: CAMELS forcing data source? (5 options: 'daymet', 'nldas'(_extended'), 'maurer'(_extended'))\n",
    "forcing = 'daymet'\n",
    "\n",
    "#Range of years: train/test sets sourced from 'all' years or only 'nwm' years?\n",
    "years = 'all'\n",
    "\n",
    "#########################################################################################"
   ]
  },
  {
   "cell_type": "markdown",
   "metadata": {},
   "source": [
    "##### Additional Experiment Parameters"
   ]
  },
  {
   "cell_type": "markdown",
   "metadata": {},
   "source": [
    "The remaining parameters are less apt to change (in my experience). First we need to make some decisions about the dynamic climate indexes since they are used to determine the train/test sets for the models; extreme or random, static or dynamic alike. Will the dynamic climate indexes need to calculated and saved or will that file already exist (calculate_indexes)? If the exp_type == 'extreme', which climate indexes do we want to create extreme train/test sets for (default is mean precipitation (p_mean) and aridity)? If exp_type == 'random', how many random experiments, each with a unique random train/test set, do we want to create (num_random_experiments; default is 10)?\n",
    "\n",
    "Finally, we need to decide the amount of years we want in our train/test sets (default for both is 5) and how many (default is 10), and which (default starts at seed 100) random seeds we want to use. "
   ]
  },
  {
   "cell_type": "code",
   "execution_count": 4,
   "metadata": {},
   "outputs": [],
   "source": [
    "#########################################################################################\n",
    "\n",
    "#Do the dynamic climate indexes need to be calculated? If True and file exists, will be overwritten\n",
    "calculate_indices = False\n",
    "\n",
    "#IF EXP_TYPE == 'EXTREME': Which indexes do we want to create extreme train/test sets for?\n",
    "use_climate_indexes = ['p_mean_dyn', 'aridity_dyn']\n",
    "\n",
    "#IF EXP_TYPE == 'random': How many random train/test sets do we want to create?\n",
    "num_random_experiments = 10\n",
    "\n",
    "#########################################################################################\n",
    "\n",
    "#Specify number of years to be used in train and test sets\n",
    "n_train_years = 5\n",
    "n_test_years = 5\n",
    "\n",
    "#Specify number of ensemble members and first random seed value (increases by 1 for n num_seeds)\n",
    "num_seeds = 10\n",
    "first_seed = 100\n",
    "\n",
    "#########################################################################################"
   ]
  },
  {
   "cell_type": "markdown",
   "metadata": {},
   "source": [
    "##### Notebook Configurations"
   ]
  },
  {
   "cell_type": "markdown",
   "metadata": {},
   "source": [
    "To be safe, we need to explicitly define the functionality of this notebook; we don't want to accidentally overwrite something important, or maybe we want to overwrite the dates but not the configs, etc. Here we can explicitly decide if we want to overwrite the config files, if they already exist, and/or if we want to overwrite the date_files. If exp_type == 'random', be careful with setting overwrite_dates to True; some benchmark experiments benefit from consistent random train/test sets. Also, if you want any of the resulting plots to be interactive in this notebook, now's your time to define interactive_plots."
   ]
  },
  {
   "cell_type": "code",
   "execution_count": 5,
   "metadata": {},
   "outputs": [],
   "source": [
    "#########################################################################################\n",
    "\n",
    "#Overwrite existing configuration files?\n",
    "overwrite_configs = False\n",
    "\n",
    "#Overwrite existing train/test date files? TYPICALLY FALSE FOR RANDOM EXPERIMENTS\n",
    "overwrite_dates = False\n",
    "\n",
    "#Define if in-notebook plots are interactive (typically not needed)\n",
    "interactive_plots = False\n",
    "\n",
    "#########################################################################################"
   ]
  },
  {
   "cell_type": "markdown",
   "metadata": {},
   "source": [
    "##### Paths"
   ]
  },
  {
   "cell_type": "markdown",
   "metadata": {},
   "source": [
    "The first 5 paths in the cell below need to be replaced with your own filepaths and filenames. The remaining paths, assuming the repository maintains its original structure, do not have to be replaced since they are named dynamically with the values of the variables defined above."
   ]
  },
  {
   "cell_type": "code",
   "execution_count": 6,
   "metadata": {},
   "outputs": [],
   "source": [
    "#########################################################################################\n",
    "\n",
    "#Path to working directory (where this notebook is)\n",
    "working_dir = Path('/home/lmqualls/kratzert/climate/nonstationarity') #Fix\n",
    "\n",
    "#Path to \"configs\" directory (../configs)\n",
    "config_dir = working_dir / 'configs' #Fix\n",
    "\n",
    "#Filepath (including filename) to (load or save a) dynamic climate indexes pickle file\n",
    "climate_indices_file = config_dir / f'additional_features/dyn_climate_indices_{forcing}_531basins_365lookback.p'\n",
    "\n",
    "#########################################################################################\n",
    "\n",
    "#If you use this repository's directory structure, you not need to edit the paths below, but just in case...\n",
    "\n",
    "#Path to \"run_configs\" directory (../run_configs)\n",
    "run_configs_dir = config_dir / 'run_configs'\n",
    "\n",
    "#Path to folder to save train/test sets to\n",
    "dates_dir = working_dir / 'extreme_year_dates'\n",
    "\n",
    "#Path to NeuralHydrology codebase ('../neuralhydrology/neuralhydrology')\n",
    "nh_dir = Path('/home/lmqualls/kratzert/climate/neuralhydrology/neuralhydrology') #Fix\n",
    "\n",
    "#Dynamic path to save the NH configuration files to (based on defined variable values)\n",
    "nh_configs_path = run_configs_dir / f'nh/{inputs}/{exp_type}/{forcing}/{years}'\n",
    "\n",
    "#Dynamic path to save the SAC-SMA configuration files to (based on defined variable values)\n",
    "sacsma_configs_path = run_configs_dir / f'sacsma/{inputs}/{exp_type}/{forcing}/{years}'\n",
    "\n",
    "#Path to dummy config file (based on defined input type)\n",
    "dummy_config_file = config_dir / 'dummy_configs' / f'climate_experiment_{inputs}_dummy.yml' \n",
    "\n",
    "#########################################################################################"
   ]
  },
  {
   "cell_type": "markdown",
   "metadata": {},
   "source": [
    "**You should not have to edit anything below this cell.**"
   ]
  },
  {
   "cell_type": "markdown",
   "metadata": {},
   "source": [
    "I want to address \"holdout_types\", as this can be a confusing concept (this was Grey Nearing's naming scheme, not mine). Note that these _only_ need to be defined for extreme experiments. Holdout types are the \"type\" of years that will be excluded, or _held out_, of the **training** set and ultimately used in the **test** set. For example, if we want to simulate an increasingly arid climate, represented by the dynamic mean precipitation index (p_mean), we want to **train on high** average p_mean years and **test on low** average p_mean years; this experiment would be called **p_mean_dyn_low**, because years with **low** average p_mean years are excluded from the training set and used in the **test** set."
   ]
  },
  {
   "cell_type": "markdown",
   "metadata": {},
   "source": [
    "The cell below orients the notebook based on the parameters specifed above."
   ]
  },
  {
   "cell_type": "code",
   "execution_count": 7,
   "metadata": {},
   "outputs": [],
   "source": [
    "#########################################################################################\n",
    "\n",
    "#Point to NeuralHydrology codebase\n",
    "sys.path.append(str(nh_dir))\n",
    "\n",
    "#Import NeuralHydrology functions\n",
    "from utils import config\n",
    "from datautils.utils import load_basin_file\n",
    "# from datautils.climateindices import calculate_camels_us_dyn_climate_indices\n",
    "\n",
    "# #########################################################################################\n",
    "\n",
    "#Explicitly describe types of extremes\n",
    "holdout_types = ['low', 'high']\n",
    "\n",
    "#List the files currently in the dates_dir\n",
    "date_files = os.listdir(dates_dir)\n",
    "\n",
    "#Create list of seeds from seed information\n",
    "seeds = list(range(first_seed, first_seed + num_seeds))\n",
    "\n",
    "#########################################################################################\n",
    "\n",
    "#if exp_type == 'random'... \n",
    "if exp_type == 'random':\n",
    "    \n",
    "    #Experiment names will consist of representative integers for num_random_experiments\n",
    "    experiments = list(range(num_random_experiments))\n",
    "\n",
    "#if exp_type == 'random'... \n",
    "if exp_type == 'extreme':\n",
    "    \n",
    "    #An experiment will be made for...\n",
    "    experiments = []\n",
    "    \n",
    "    #...each climate index and...\n",
    "    for index in use_climate_indexes:\n",
    "        \n",
    "        #...each holdout_type\n",
    "        for htype in holdout_types:\n",
    "            \n",
    "            experiment = f'{index}_{htype}'\n",
    "            experiments.append(experiment)\n",
    "    \n",
    "    #Personally, I like having my experiments in alphabetical order\n",
    "    experiments = list(np.sort(experiments))\n",
    "    \n",
    "#########################################################################################\n",
    "\n",
    "#If forcing == 'nldas_extended'...\n",
    "if forcing == 'nldas_extended':\n",
    "    \n",
    "    #The forcing data column names for NH (ndyns) and SAC-SMA (sdyns) are as follows\n",
    "    ndyns = ['PRCP(mm/day)','SRAD(W/m2)','Tmax(C)','Tmin(C)','Vp(Pa)']\n",
    "    sdyns = ['PRCP(mm/day)','SRAD(W/m2)','Tmax(C)','Tmin(C)','Vp(Pa)']\n",
    "    \n",
    "#If forcing == 'daymet'...\n",
    "if forcing == 'daymet':\n",
    "    \n",
    "    #The forcing data column names for NH (ndyns) and SAC-SMA (sdyns) are as follows\n",
    "    ndyns = ['prcp(mm/day)','srad(W/m2)','tmax(C)','tmin(C)','vp(Pa)']\n",
    "    sdyns = ['prcp(mm/day)','srad(W/m2)','tmax(C)','tmin(C)','vp(Pa)']\n",
    "    \n",
    "#########################################################################################\n",
    "\n",
    "#Make plots interactive or inline based on interactive_plots variable\n",
    "if interactive_plots:\n",
    "    \n",
    "    %matplotlib notebook\n",
    "    %matplotlib notebook\n",
    "    \n",
    "else:\n",
    "    \n",
    "    %matplotlib inline\n",
    "    \n",
    "#########################################################################################"
   ]
  },
  {
   "cell_type": "markdown",
   "metadata": {},
   "source": [
    "### Explicit Warnings"
   ]
  },
  {
   "cell_type": "markdown",
   "metadata": {},
   "source": [
    "Just to make sure we understand the magnitude of running this notebook, some warnings are printed to remind you of existing experiments and your current overwrite variables."
   ]
  },
  {
   "cell_type": "code",
   "execution_count": 8,
   "metadata": {},
   "outputs": [],
   "source": [
    "#If we are creating configurations for NH...\n",
    "if nh:\n",
    "    \n",
    "    #Check if the filepath to the configs already exists, and if it does...\n",
    "    if os.path.isdir(nh_configs_path) == True:\n",
    "        \n",
    "        #Warn us!\n",
    "        print('\\033[91m'+'\\033[1m'+'NH exeriments already exist.')\n",
    "\n",
    "#If we are creating configurations for SAC-SMA...\n",
    "if sacsma:\n",
    "    \n",
    "    #Check if the filepath to the configs already exists, and if it does...\n",
    "    if os.path.isdir(sacsma_configs_path) == True:\n",
    "        \n",
    "        #Warn us!\n",
    "        print('\\033[91m'+'\\033[1m'+'SAC-SMA exeriments already exist.')\n",
    "\n",
    "#If we said we wanted to overwrite config files, that's fine, but...\n",
    "if overwrite_configs == True:\n",
    "    \n",
    "    #Warn us!\n",
    "    print('\\nConfiguration files will be overwritten.')\n",
    "    \n",
    "#If we said we wanted to overwrite config files, that's fine, but...\n",
    "if overwrite_dates == True:\n",
    "    \n",
    "    #Warn us!\n",
    "    print('Dates files will be overwritten.')"
   ]
  },
  {
   "cell_type": "markdown",
   "metadata": {},
   "source": [
    "### Load and/or Create Data Files"
   ]
  },
  {
   "cell_type": "markdown",
   "metadata": {},
   "source": [
    "Let's get started."
   ]
  },
  {
   "cell_type": "markdown",
   "metadata": {},
   "source": [
    "As a reminder, the dummy_config_files is a representative config file with some dummy parameters and some pre-set parameters. To change the pre-set parameters, you need to edit the dummy config files.\n",
    "\n",
    "Now we want to get a list of basins that the configuration files will be using data from. The default basin list is the 531_basin_list.txt which uses 531, out of 671, CAMELS basins. The remaining basins were excluded for a variety of reasons (Newman et al., 2017)."
   ]
  },
  {
   "cell_type": "code",
   "execution_count": 9,
   "metadata": {},
   "outputs": [
    {
     "name": "stdout",
     "output_type": "stream",
     "text": [
      "There are 531 basins.\n"
     ]
    }
   ],
   "source": [
    "#Load in dummy configuration file\n",
    "cfg = config.Config(dummy_config_file)\n",
    "\n",
    "#Extract file of list of basin from the dummy config\n",
    "basins = load_basin_file(cfg.train_basin_file)\n",
    "\n",
    "#Print the number of basins the model will using data from\n",
    "print(f'There are {len(basins)} basins.')"
   ]
  },
  {
   "cell_type": "markdown",
   "metadata": {},
   "source": [
    "Next we utilize the calculate_indices variable we defined above to either calculate or load the dynamic climate index data. If True, this loop calculates the dynamic climate indices using the forcing source defined above. If False, we load the avaliable pickled climate_indices_file and take note of the first timestep."
   ]
  },
  {
   "cell_type": "code",
   "execution_count": 10,
   "metadata": {},
   "outputs": [
    {
     "name": "stdout",
     "output_type": "stream",
     "text": [
      "Climate indexes beginning at 1980-01-01 00:00:00\n"
     ]
    }
   ],
   "source": [
    "#If calculate_indices == True...\n",
    "if calculate_indices:\n",
    "    \n",
    "    #Make sure the file doesn't already exist\n",
    "    if not os.path.exists(climate_indices_file):\n",
    "    \n",
    "        #Calculate dynamic climate indices from CAMELS forcing data\n",
    "        climate_indices = calculate_camels_us_dyn_climate_indices(data_dir=cfg.data_dir, \n",
    "                                                           basins=basins, \n",
    "                                                           window_length=cfg.seq_length,\n",
    "                                                           forcings=f'{forcing}')\n",
    "\n",
    "        #Save climate_indices to the specified file path and name\n",
    "        with open(climate_indices_file,'wb') as f:\n",
    "            pkl.dump(climate_indices, f)\n",
    "\n",
    "#If calculate_indices == False...\n",
    "else:\n",
    "\n",
    "    #Load pickled dynamic climate indices file\n",
    "    with open(climate_indices_file, 'rb') as f:\n",
    "        climate_indices = pkl.load(f)\n",
    "        \n",
    "#If we are creating experiments for only the NWM years...\n",
    "if years == 'nwm': \n",
    "    \n",
    "    #Define range of NWM years\n",
    "    nwm_dates = pd.date_range('1995-10-01','2014-12-30')\n",
    "    \n",
    "    #And for every basin...\n",
    "    for basin in basins:\n",
    "        \n",
    "        #Trim the datetime index to only include data within that range\n",
    "        climate_indices[basin] = climate_indices[basin].loc[nwm_dates]\n",
    "\n",
    "#Check beginning time step\n",
    "print(\"Climate indexes beginning at\",climate_indices[basins[0]].index[0])"
   ]
  },
  {
   "cell_type": "markdown",
   "metadata": {},
   "source": [
    "Just to make sure that the basins from the configuration file match the basins avaliable in the climate_indices file, we want to run it through an assertion."
   ]
  },
  {
   "cell_type": "code",
   "execution_count": 11,
   "metadata": {},
   "outputs": [],
   "source": [
    "#Double check that basins in the climate index match the basin set from the dummy config\n",
    "assert len(list(climate_indices.keys())) == len(basins)"
   ]
  },
  {
   "cell_type": "markdown",
   "metadata": {},
   "source": [
    "We can now take a peek at an example climate index for an example basin."
   ]
  },
  {
   "cell_type": "code",
   "execution_count": 12,
   "metadata": {},
   "outputs": [
    {
     "data": {
      "image/png": "[encoded data removed]",
      "text/plain": [
       "<Figure size 432x288 with 1 Axes>"
      ]
     },
     "metadata": {
      "needs_background": "light"
     },
     "output_type": "display_data"
    }
   ],
   "source": [
    "#Plot an example climate index for an example basin\n",
    "plt.plot(climate_indices[basins[0]][use_climate_indexes[0]],c='teal')\n",
    "plt.axhline(y=np.nanmedian(climate_indices[basins[0]][use_climate_indexes[0]]),color='k',label='median')\n",
    "plt.legend()\n",
    "plt.xlabel('Hydrological Years')\n",
    "plt.ylabel(climate_indices[basins[0]][use_climate_indexes[0]].name)\n",
    "plt.title(f'{basins[0]} {climate_indices[basins[0]][use_climate_indexes[0]].name}')\n",
    "plt.show()"
   ]
  },
  {
   "cell_type": "code",
   "execution_count": 13,
   "metadata": {},
   "outputs": [],
   "source": [
    "#If interactive plots enabled, must explicitly close plot\n",
    "plt.close()"
   ]
  },
  {
   "cell_type": "markdown",
   "metadata": {},
   "source": [
    "### Create Train/Test Sets"
   ]
  },
  {
   "cell_type": "markdown",
   "metadata": {},
   "source": [
    "There are several steps in creating the train/test splits for the extreme/climate experiments: 1) define the train/test split function, 2) create the train/test sets using that function, and 3) saving the train/test sets as pickled dictionaries in the dates_dir (constituting the first external save of this notebook). But first, for fun, let's visualize how we create the train/test sets."
   ]
  },
  {
   "cell_type": "markdown",
   "metadata": {},
   "source": [
    "##### Visualization"
   ]
  },
  {
   "cell_type": "code",
   "execution_count": 14,
   "metadata": {},
   "outputs": [
    {
     "data": {
      "image/png": "[encoded data removed]",
      "text/plain": [
       "<Figure size 432x288 with 1 Axes>"
      ]
     },
     "metadata": {
      "needs_background": "light"
     },
     "output_type": "display_data"
    }
   ],
   "source": [
    "#Create a dataframe of an example basin for an example index and sort based on index value\n",
    "ci_srt = climate_indices[basins[0]].dropna(0).sort_values(climate_indices[basins[0]].columns[0])\n",
    "\n",
    "#Create 'year' column by extracting the years from the dataframe's datetime index\n",
    "ci_srt['year'] = ci_srt.index.year\n",
    "#Extract the year column\n",
    "a = ci_srt.pop('year')\n",
    "#Re-insert the 'year column into the first column position'\n",
    "ci_srt.insert(value=a,column='year',loc=0)\n",
    "\n",
    "#Create a list of hydro years, sorted temporally\n",
    "xs = [int(x) for x in list(ci_srt.groupby('year').mean().index)]\n",
    "#Create a list of mean climate index values, sorted temporally\n",
    "ys = list(ci_srt.groupby('year').mean()[climate_indices[basins[0]].columns[0]])\n",
    "\n",
    "#Create a list of sorted years, sorted by mean climate index values\n",
    "sorted_years = list(ci_srt.groupby('year').mean().sort_values(climate_indices[basins[0]].columns[0]).index)  \n",
    "    \n",
    "#If we are creating extreme train/test sets...\n",
    "if exp_type == 'extreme':\n",
    "\n",
    "    #Create a list of sorted mean climate index values, sorted by mean climate index value\n",
    "    sorted_ys = list(ci_srt.groupby('year').mean().sort_values(climate_indices[basins[0]].columns[0])[climate_indices[basins[0]].columns[0]])\n",
    "\n",
    "    #Get a list of train years (one extreme)\n",
    "    train_years = sorted_years[:5]\n",
    "    #Get a list of train years' climate index values\n",
    "    train_ys = sorted_ys[:5]\n",
    "    #Get a list of test years (opposite extreme)\n",
    "    test_years = sorted_years[-5:]\n",
    "    #Get a list of test years' climate index values\n",
    "    test_ys = sorted_ys[-5:]\n",
    "    \n",
    "if exp_type == 'random':\n",
    "    \n",
    "    #Zip sorted_years and ys together to maintain year, value relationship during shuffle\n",
    "    temp = list(zip(sorted_years,ys))\n",
    "    #Shuffle them\n",
    "    np.random.shuffle(temp)\n",
    "    #Unzip them\n",
    "    random_years, random_ys = zip(*temp)\n",
    "    \n",
    "    #Get a list of train years\n",
    "    train_years = random_years[:5]\n",
    "    #Get a list of train years' climate index values\n",
    "    train_ys = random_ys[:5]\n",
    "    #Get a list of test years\n",
    "    test_years = random_years[-5:]\n",
    "    #Get a list of test years' climate index values\n",
    "    test_ys = random_ys[-5:]\n",
    "\n",
    "#Plot years and their corresponding climate index values\n",
    "plt.scatter(xs,ys,color='k')\n",
    "#Counters to limit setting labels once for each set\n",
    "itrain = 0\n",
    "itest = 0\n",
    "#For every x,y pair in xs (years) and ys (values)...\n",
    "for x,y in zip(xs,ys):\n",
    "    #If y (value) is in train_ys...\n",
    "    if y in train_ys:\n",
    "        #Add 1 to itrain\n",
    "        itrain = itrain + 1\n",
    "        #And if itrain is equal to 1...\n",
    "        if itrain == 1:\n",
    "            #Plot year and value as blue point and label\n",
    "            plt.scatter(x,y,color='blue',label='train years')\n",
    "        #If itrain is not equal to 1...\n",
    "        else:\n",
    "            #Plot year and value as blue point\n",
    "            plt.scatter(x,y,color='blue')\n",
    "    #Or if y (value) is in test_years...\n",
    "    if y in test_ys:\n",
    "        #Add 1 to itest\n",
    "        itest = itest + 1\n",
    "        #And if itest is equal to 1...\n",
    "        if itest == 1:\n",
    "            #Plot year and value as red point and label\n",
    "            plt.scatter(x,y,color='red',label='test years')\n",
    "        #If itest is not equal to one...\n",
    "        else:\n",
    "            #Plot year and value as red point\n",
    "            plt.scatter(x,y,color='red')\n",
    "\n",
    "#Draw line of median climate value\n",
    "plt.axhline(y=np.mean(climate_indices[basins[0]][climate_indices[basins[0]].columns[0]]), color='k',lw=1,label='median')\n",
    "\n",
    "#Set x-axis label\n",
    "plt.xlabel('Hydrological Years')\n",
    "#Set title\n",
    "plt.title(f'{basins[0]}: {exp_type} Train/Test Years')\n",
    "# plt.title(f'{basins[0]}: Random Train/Test Years')\n",
    "\n",
    "#Set x-axis tick interval\n",
    "plt.gca().xaxis.set_major_locator(plt.MultipleLocator(5))\n",
    "#Set y-axis label\n",
    "plt.ylabel(f'{climate_indices[basins[0]].columns[0]}')\n",
    "\n",
    "# plt.ylabel(f'Mean Precipitation (mm/day)')\n",
    "\n",
    "plt.legend(loc=2)\n",
    "plt.show()"
   ]
  },
  {
   "cell_type": "markdown",
   "metadata": {},
   "source": [
    "##### Define split function"
   ]
  },
  {
   "cell_type": "markdown",
   "metadata": {},
   "source": [
    "Here we create a function that orders data depending on the holdout type (\"high\" reverses the order of the argsorted list initialized later on), grabs the first n years for the test set and last n years for train set. It is important to understand this function, as it is the main decider for these climate experiments."
   ]
  },
  {
   "cell_type": "code",
   "execution_count": 15,
   "metadata": {},
   "outputs": [],
   "source": [
    "#Define a function that splits train and test years based on climate values\n",
    "def train_test_split(idx, holdout, n_train, n_test):\n",
    "\n",
    "    #If the holdout type is high, reverse the argsort so that high index values are the test set (as seen below)\n",
    "    if holdout == 'high':\n",
    "        idx.reverse()\n",
    "        \n",
    "    #Grab the first few years as the test set\n",
    "    test = idx[:n_test]\n",
    "    \n",
    "    #Remove anything within sequence length of these years\n",
    "    for t in test:\n",
    "        try:\n",
    "            idx.remove(t)\n",
    "        except: \n",
    "            pass\n",
    "        try:\n",
    "            idx.remove(t+1)\n",
    "        except: \n",
    "            pass\n",
    "        try:\n",
    "            idx.remove(t-1)\n",
    "        except: \n",
    "            pass\n",
    "    \n",
    "    #Grab last few years as the train set\n",
    "    train = idx[-n_train:] \n",
    "    \n",
    "    #Return test and train sets\n",
    "    return test, train"
   ]
  },
  {
   "cell_type": "markdown",
   "metadata": {},
   "source": [
    "##### Create train/test sets"
   ]
  },
  {
   "cell_type": "markdown",
   "metadata": {},
   "source": [
    "Unfortunately, the SAC-SMA and NH libraries work with dictionaries of conflicting key-orders. SAC-SMA is designed to read dictionaries with the format sacsma['start/end_dates'][basin] and NH is designed to read dictionaries with the format nh[basin]['start/end_dates']. This is accounted for in the following cells."
   ]
  },
  {
   "cell_type": "code",
   "execution_count": 16,
   "metadata": {},
   "outputs": [
    {
     "data": {
      "application/vnd.jupyter.widget-view+json": {
       "model_id": "742f6c62d3d84ea1a5480be37f15dc7f",
       "version_major": 2,
       "version_minor": 0
      },
      "text/plain": [
       "  0%|          | 0/10 [00:00<?, ?it/s]"
      ]
     },
     "metadata": {},
     "output_type": "display_data"
    }
   ],
   "source": [
    "#If we are creating experiments for either of the models...\n",
    "if nh or sacsma:\n",
    "    \n",
    "    #Initialize empty train/test dictionaries\n",
    "    test_dates = {}\n",
    "    train_dates = {}\n",
    "\n",
    "    #For n experiments...\n",
    "    for experiment in tqdm(experiments):\n",
    "        \n",
    "        #If we are creating extreme train/test sets\n",
    "        if exp_type == 'extreme':\n",
    "        \n",
    "            #Experiment name is split from \"_dyn\" and rejoin (in case we are creating a static experiment)\n",
    "            experiment = \"\".join(experiment.split(\"_dyn\"))\n",
    "\n",
    "        #Initialize experiment dictionary level\n",
    "        test_dates[experiment] = {}\n",
    "        train_dates[experiment] = {}\n",
    "\n",
    "        #And for every basin...\n",
    "        for b, basin in enumerate(basins):\n",
    "            basin = str(basin)\n",
    "\n",
    "        #Initialize train/test dictionary levels\n",
    "            test_dates[experiment][basin] = {}\n",
    "            test_dates[experiment][basin] = {}\n",
    "            train_dates[experiment][basin] = {}\n",
    "            train_dates[experiment][basin] = {}\n",
    "\n",
    "            #Retrieve the dates from the index of a basin's climate indices dataframe\n",
    "            dates = climate_indices[basin].index\n",
    "\n",
    "            #The following start/end dates correspond to hydrological years\n",
    "            #Extract any dates that are the 1st day of the 10th month \n",
    "            start_dates = climate_indices[basin].loc[(dates.month == 10) & (dates.day == 1)].index\n",
    "            #Extract any dates that are the 30th day of the 9th month\n",
    "            end_dates = climate_indices[basin].loc[(dates.month == 9) & (dates.day == 30)].index\n",
    "\n",
    "            #Exclude the first and last years\n",
    "            start_dates = start_dates[1:-1]\n",
    "            #Exclude first two years to ensure there is no incomplete data years\n",
    "            end_dates = end_dates[2:]\n",
    "\n",
    "            #If we are making random experiments...\n",
    "            if exp_type == 'random':\n",
    "\n",
    "                #Make a list of the start and end dates \"zipped\" together\n",
    "                temp = list(zip(start_dates, end_dates))\n",
    "                #Shuffle the start/end date pairs\n",
    "                np.random.shuffle(temp)\n",
    "                #Separate the pairs into start and end dates while keeping them in order\n",
    "                sorted_start_dates, sorted_end_dates = zip(*temp)\n",
    "\n",
    "                #Extract first 5 random start/end dates and store them for the corresponding experiment\n",
    "                test_dates[experiment][basin]['start_dates'] = list(sorted_start_dates[:5])\n",
    "                test_dates[experiment][basin]['end_dates'] = list(sorted_end_dates[:5])\n",
    "\n",
    "                #Extract last 5 random start/end dates and store them for the corresponding experiment\n",
    "                train_dates[experiment][basin]['start_dates'] = list(sorted_start_dates[-5:])\n",
    "                train_dates[experiment][basin]['end_dates'] = list(sorted_end_dates[-5:])\n",
    "\n",
    "            #If we are making extreme experiments...\n",
    "            if exp_type == 'extreme':\n",
    "\n",
    "                #Get index of all hydrological year end_dates and drop any dates that return a value of NaN\n",
    "                indexes_end_years = climate_indices[basin].loc[end_dates][index].dropna()                \n",
    "\n",
    "                #Initialize list of hydrological start date indexes\n",
    "                indexes_start_years = []\n",
    "\n",
    "                #For every end date of an extreme year...\n",
    "                for ed in indexes_end_years.index:\n",
    "\n",
    "                    #Add the date exactly 364 days before the corresponding end_date to the start_years list\n",
    "                    indexes_start_years.append(ed + pd.to_timedelta(-364,unit='d'))\n",
    "\n",
    "                #Extract the numerical index of the start dates\n",
    "                indexes_start_years = climate_indices[basin].loc[indexes_start_years][index]\n",
    "\n",
    "                #Sort end_year indexes according to their corresponding climate index value\n",
    "                sorted_indexes_end_years = list(np.argsort(indexes_end_years.values))\n",
    "                #Make train and test index using train_test_split function\n",
    "                test_dex, train_dex = train_test_split(sorted_indexes_end_years, htype, n_train_years, n_test_years)\n",
    "\n",
    "                #Store test start & end dates for the corresponding experiment using the test_dex\n",
    "                test_dates[experiment][basin]['start_dates'] = list(np.sort(list(indexes_start_years.iloc[test_dex].index)))\n",
    "                test_dates[experiment][basin]['end_dates'] = list(np.sort(list(indexes_end_years.iloc[test_dex].index)))\n",
    "\n",
    "                #Store train start & end dates for the corresponding experiment using the train_dex\n",
    "                train_dates[experiment][basin]['start_dates'] = list(np.sort(list(indexes_start_years.iloc[train_dex].index)))\n",
    "                train_dates[experiment][basin]['end_dates'] = list(np.sort(list(indexes_end_years.iloc[train_dex].index)))"
   ]
  },
  {
   "cell_type": "code",
   "execution_count": 17,
   "metadata": {},
   "outputs": [],
   "source": [
    "#If sacsma == True, we need to switch the order of the dictionary keys...\n",
    "if sacsma:\n",
    "    \n",
    "    #Initialize sacsma train & test dictionaries\n",
    "    sacsma_train_dates = {}\n",
    "    sacsma_test_dates = {}\n",
    "    \n",
    "    #For every experiment...\n",
    "    for experiment in list(train_dates.keys()):\n",
    "        \n",
    "        #Initialize an experiment level\n",
    "        sacsma_train_dates[experiment] = {}\n",
    "        sacsma_test_dates[experiment] = {}\n",
    "        \n",
    "        #For every start &end date...\n",
    "        for date in list(train_dates[experiment][basin].keys()):\n",
    "            \n",
    "            #Initalize a date level\n",
    "            sacsma_train_dates[experiment][date] = {}\n",
    "            sacsma_test_dates[experiment][date] = {}\n",
    "            \n",
    "            #And for every basin...\n",
    "            for basin in list(train_dates[experiment].keys()):\n",
    "                \n",
    "                #Input the dataframes made above into the sacsma train & test dictionaries\n",
    "                sacsma_train_dates[experiment][date][basin] = train_dates[experiment][basin][date]\n",
    "                sacsma_test_dates[experiment][date][basin] = test_dates[experiment][basin][date]"
   ]
  },
  {
   "cell_type": "markdown",
   "metadata": {},
   "source": [
    "##### Save train/test sets"
   ]
  },
  {
   "cell_type": "markdown",
   "metadata": {},
   "source": [
    "The train/test sets are saved as pickled dictionaries in the dates_dir defined above. Notice that these files are named dynamically and that the titles indicate the parameters of the experiment they are to be used in. The naming format for the train/test sets will be in the order of model, experiment type, train/test, years, and experiment name."
   ]
  },
  {
   "cell_type": "code",
   "execution_count": 18,
   "metadata": {},
   "outputs": [
    {
     "data": {
      "application/vnd.jupyter.widget-view+json": {
       "model_id": "9d05d98ba03a401db249e0ae1072fbc9",
       "version_major": 2,
       "version_minor": 0
      },
      "text/plain": [
       "  0%|          | 0/10 [00:00<?, ?it/s]"
      ]
     },
     "metadata": {},
     "output_type": "display_data"
    }
   ],
   "source": [
    "#For every experiment...\n",
    "for e, experiment in enumerate(tqdm(train_dates.keys())):\n",
    "    \n",
    "    #If we are creating train/test sets for neuralhydology...\n",
    "    if nh == True:\n",
    "\n",
    "        #If the date file is NOT already in extreme_year_dates folder or if we want to overwrite that file...\n",
    "        if not f'nh_{exp_type}_train_{years}_{experiment}.pkl' in date_files or overwrite_dates == True:\n",
    "\n",
    "            #Define name of train/test file according to experiment parameters\n",
    "            test_fname = Path(f'{dates_dir}/nh_{exp_type}_test_{years}_{experiment}.pkl')\n",
    "            train_fname = Path(f'{dates_dir}/nh_{exp_type}_train_{years}_{experiment}.pkl')\n",
    "\n",
    "            #Save test fi~le for an experiment at test_fname\n",
    "            with open(test_fname, 'wb') as f:\n",
    "                pkl.dump(test_dates[experiment], f)\n",
    "\n",
    "            #Save train file for an experiment at train_fname\n",
    "            with open(train_fname, 'wb') as f:\n",
    "                pkl.dump(train_dates[experiment], f)\n",
    "        \n",
    "    #If we are creating train/test sets for SAC-SMA...\n",
    "    if sacsma == True:\n",
    "\n",
    "        #If the date file is NOT already in extreme_year_dates folder or if we want to overwrite that file...\n",
    "        if not f'sacsma_{exp_type}_train_{years}_{experiment}.pkl' in date_files or overwrite_dates == True:\n",
    "\n",
    "            #Define name of train/test file according to experiment parameters\n",
    "            test_fname = Path(f'{dates_dir}/sacsma_{exp_type}_test_{years}_{experiment}.pkl')\n",
    "            train_fname = Path(f'{dates_dir}/sacsma_{exp_type}_train_{years}_{experiment}.pkl')\n",
    "\n",
    "            #Save test file for an experiment at test_fname\n",
    "            with open(test_fname, 'wb') as f:\n",
    "                pkl.dump(sacsma_test_dates[experiment], f)\n",
    "\n",
    "            #Save train file for an experiment at train_fname\n",
    "            with open(train_fname, 'wb') as f:\n",
    "                pkl.dump(sacsma_train_dates[experiment], f)"
   ]
  },
  {
   "cell_type": "markdown",
   "metadata": {},
   "source": [
    "### Create Configuration Files"
   ]
  },
  {
   "cell_type": "markdown",
   "metadata": {},
   "source": [
    "Now that the extreme/random train/test sets have been created and saved, we can actually CREATE the configuration files by editing the dummy configuration file and replacing dummy variables with the new, defined variables and save the configuration file to the into the run_config_dir defined above."
   ]
  },
  {
   "cell_type": "code",
   "execution_count": 19,
   "metadata": {},
   "outputs": [],
   "source": [
    "#If we are creating config files for neuralhydrology...\n",
    "if nh:\n",
    "    \n",
    "    #If the path to the configuration files already exists or if we want to overwrite those configuration files...\n",
    "    if not os.path.isdir(nh_configs_path) or overwrite_configs == True:\n",
    "        \n",
    "        #For every experiment...\n",
    "        for e,experiment in enumerate(train_dates.keys()):\n",
    "\n",
    "            #For every seed...\n",
    "            for seed in seeds:\n",
    "\n",
    "                #Read in dummy config file\n",
    "                with open(dummy_config_file, 'r') as file :\n",
    "                    filedata = file.read()\n",
    "\n",
    "                #Change dummy variables...\n",
    "                #Experiment name\n",
    "                exp_name = f'nh_{inputs}_{exp_type}_{forcing}_{years}_{experiment}_{seed}'\n",
    "                #Location of run directory\n",
    "                run_dir = f'{working_dir}/runs/nh/{inputs}/{exp_type}/{forcing}/{years}'     \n",
    "\n",
    "\n",
    "                #Dummy train dates file\n",
    "                train_dates_fname = str(dates_dir / f'nh_{exp_type}_train_{years}_{experiment}.pkl')\n",
    "                #Dummy test dates file\n",
    "                test_dates_fname = str(dates_dir / f'nh_{exp_type}_test_{years}_{experiment}.pkl')\n",
    "\n",
    "                #Update dummy parameters \n",
    "                filedata = filedata.replace('dummy_run', exp_name)\n",
    "                filedata = filedata.replace('dummy_dir',run_dir)\n",
    "                filedata = filedata.replace('dummy_train_dates_file', train_dates_fname)\n",
    "                filedata = filedata.replace('dummy_test_dates_file', test_dates_fname)\n",
    "                filedata = filedata.replace('dummy_seed', f'{seed}')\n",
    "                filedata = filedata.replace('dummy_forcing', f'{forcing}')\n",
    "                filedata = filedata.replace('- dummy_dyn',f'- {ndyns[0]}\\n- {ndyns[1]}\\n- {ndyns[2]}\\n- {ndyns[3]}\\n- {ndyns[4]}')\n",
    "\n",
    "                #Write new config file to the pre-defined config_dir\n",
    "                new_config_path = Path(f'{nh_configs_path}')\n",
    "                new_config_file = new_config_path / f'{exp_name}.yml'\n",
    "\n",
    "                #If the path already exists, write files to it\n",
    "                if os.path.exists(new_config_path):\n",
    "                    with open(new_config_file, 'w') as file:\n",
    "                        file.write(filedata)\n",
    "\n",
    "                #If the path does not exist, create it and write files to it\n",
    "                else:\n",
    "                    os.makedirs(os.path.join(run_configs_dir,'nh',inputs,exp_type,forcing,years))\n",
    "                    with open(new_config_file, 'w') as file:\n",
    "                        file.write(filedata)\n"
   ]
  },
  {
   "cell_type": "code",
   "execution_count": 20,
   "metadata": {},
   "outputs": [],
   "source": [
    "#If we are creating config files for neuralhydrology...\n",
    "if sacsma:\n",
    "    \n",
    "    #If the path to the configuration files already exists or if we want to overwrite those configuration files...\n",
    "    if not os.path.isdir(sacsma_configs_path) or overwrite_configs == True:\n",
    "    \n",
    "        #For every experiment...\n",
    "        for e,experiment in enumerate(train_dates.keys()):\n",
    "\n",
    "            #For every seed...\n",
    "            for seed in seeds:\n",
    "\n",
    "                #Read in dummy config file\n",
    "                with open(dummy_config_file, 'r') as file :\n",
    "                    filedata = file.read()\n",
    "\n",
    "                #Change dummy variables...\n",
    "                #Experiment name\n",
    "                exp_name = f'sacsma_{inputs}_{exp_type}_{forcing}_{years}_{experiment}_{seed}'\n",
    "                #Location of run directory\n",
    "                run_dir = f'{working_dir}/runs/sacsma/{inputs}/{exp_type}/{forcing}/{years}'  \n",
    "                \n",
    "                #Dummy train dates file\n",
    "                train_dates_fname = str(dates_dir / f'sacsma_{exp_type}_train_{years}_{experiment}.pkl')\n",
    "                #Dummy test dates file\n",
    "                test_dates_fname = str(dates_dir / f'sacsma_{exp_type}_test_{years}_{experiment}.pkl')\n",
    "\n",
    "                #Update dummy parameters \n",
    "                filedata = filedata.replace('dummy_run', exp_name)\n",
    "                filedata = filedata.replace('dummy_dir',run_dir)\n",
    "                filedata = filedata.replace('dummy_train_dates_file', train_dates_fname)\n",
    "                filedata = filedata.replace('dummy_test_dates_file', test_dates_fname)\n",
    "                filedata = filedata.replace('dummy_seed', f'{seed}')\n",
    "                filedata = filedata.replace('dummy_forcing', f'{forcing}')\n",
    "                filedata = filedata.replace('- dummy_dyn',f'- {sdyns[0]}\\n- {sdyns[1]}\\n- {sdyns[2]}\\n- {sdyns[3]}\\n- {sdyns[4]}')\n",
    "                \n",
    "\n",
    "                #Write new config file to the pre-defined config_dir\n",
    "                new_config_path = Path(f'{sacsma_configs_path}')\n",
    "                new_config_file = new_config_path / f'{exp_name}.yml'\n",
    "\n",
    "                #If the path already exists, write files to it\n",
    "                if os.path.exists(new_config_path):\n",
    "                    with open(new_config_file, 'w') as file:\n",
    "                        file.write(filedata)\n",
    "                        \n",
    "                #If the path does not exist, create it and write files to it\n",
    "                else:\n",
    "                    os.makedirs(os.path.join(run_configs_dir,'sacsma',inputs,exp_type,forcing,years))\n",
    "                    with open(new_config_file, 'w') as file:\n",
    "                        file.write(filedata)\n"
   ]
  },
  {
   "cell_type": "markdown",
   "metadata": {},
   "source": [
    "You should now have configuration files ready to be run."
   ]
  }
 ],
 "metadata": {
  "kernelspec": {
   "display_name": "Python 3",
   "language": "python",
   "name": "python3"
  },
  "language_info": {
   "codemirror_mode": {
    "name": "ipython",
    "version": 3
   },
   "file_extension": ".py",
   "mimetype": "text/x-python",
   "name": "python",
   "nbconvert_exporter": "python",
   "pygments_lexer": "ipython3",
   "version": "3.7.9"
  }
 },
 "nbformat": 4,
 "nbformat_minor": 2
}
