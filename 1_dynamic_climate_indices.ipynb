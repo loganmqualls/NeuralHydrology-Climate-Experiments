{
 "cells": [
  {
   "cell_type": "code",
   "execution_count": 1,
   "id": "24416a15",
   "metadata": {},
   "outputs": [],
   "source": [
    "import os\n",
    "import pickle as pkl\n",
    "from pathlib import Path\n",
    "import thebag\n",
    "from thebag import config\n",
    "from thebag.utils import load_basin_file\n",
    "from thebag.climateindices import calculate_camels_us_dyn_climate_indices"
   ]
  },
  {
   "cell_type": "code",
   "execution_count": 2,
   "id": "2ff2cfd6",
   "metadata": {},
   "outputs": [],
   "source": [
    "forcing = 'daymet'"
   ]
  },
  {
   "cell_type": "code",
   "execution_count": 3,
   "id": "d3354fed",
   "metadata": {},
   "outputs": [],
   "source": [
    "working_dir = Path(os.getcwd())\n",
    "config_dir = working_dir / 'nonstationarity' / 'configs'\n",
    "additional_features = config_dir / 'additional_features'\n",
    "dummy_config_file = config_dir / 'dummy_configs' / f'climate_experiment_static_dummy.yml' \n",
    "output_file = additional_features / f'dyn_climate_indices_{forcing}_531basins_365window.p'"
   ]
  },
  {
   "cell_type": "markdown",
   "id": "e37b0871",
   "metadata": {},
   "source": [
    "Might there be a difference if this function is calculated on all years or just the nwm years?"
   ]
  },
  {
   "cell_type": "code",
   "execution_count": 4,
   "id": "b7f0e4d2",
   "metadata": {
    "scrolled": true
   },
   "outputs": [
    {
     "name": "stdout",
     "output_type": "stream",
     "text": [
      "100%|██████████| 70/70 [00:19<00:00,  3.67it/s]\n"
     ]
    }
   ],
   "source": [
    "cfg = config.Config(dummy_config_file)\n",
    "basins = load_basin_file(cfg.train_basin_file)\n",
    "\n",
    "#Calculate dynamic climate indices from CAMELS forcing data\n",
    "climate_indices = calculate_camels_us_dyn_climate_indices(data_dir=cfg.data_dir,\n",
    "                                                          basins=basins[461:],\n",
    "                                                          window_length=365,\n",
    "                                                          forcings=f'{forcing}',\n",
    "                                                          output_file=output_file)\n",
    "\n",
    "# #Save climate_indices to the specified file path and name\n",
    "# with open(climate_indices_file,'wb') as f:\n",
    "#     pkl.dump(climate_indices, f)"
   ]
  },
  {
   "cell_type": "code",
   "execution_count": null,
   "id": "9ad98158",
   "metadata": {},
   "outputs": [],
   "source": [
    "with open(output_file,'rb') as f:\n",
    "    data = pkl.load(f)"
   ]
  },
  {
   "cell_type": "code",
   "execution_count": null,
   "id": "e51039de",
   "metadata": {},
   "outputs": [],
   "source": []
  },
  {
   "cell_type": "code",
   "execution_count": null,
   "id": "40725831",
   "metadata": {},
   "outputs": [],
   "source": []
  },
  {
   "cell_type": "code",
   "execution_count": null,
   "id": "0f977e54",
   "metadata": {},
   "outputs": [],
   "source": []
  }
 ],
 "metadata": {
  "kernelspec": {
   "display_name": "Python 3",
   "language": "python",
   "name": "python3"
  },
  "language_info": {
   "codemirror_mode": {
    "name": "ipython",
    "version": 3
   },
   "file_extension": ".py",
   "mimetype": "text/x-python",
   "name": "python",
   "nbconvert_exporter": "python",
   "pygments_lexer": "ipython3",
   "version": "3.7.9"
  }
 },
 "nbformat": 4,
 "nbformat_minor": 5
}
