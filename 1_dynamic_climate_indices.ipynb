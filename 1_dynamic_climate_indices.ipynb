{
 "cells": [
  {
   "cell_type": "markdown",
   "id": "48d91cab",
   "metadata": {},
   "source": [
    "# Create Dynamic Climate Indices"
   ]
  },
  {
   "cell_type": "markdown",
   "id": "59015613",
   "metadata": {},
   "source": [
    "Notebook 1/X\n",
    "\n",
    "This notebook was written by Logan Qualls. Data for this work is sourced from the National Center for Atmospheric Research's Catchment Attributes and Meterology for Large-Sample Studies (CAMELS) dataset, and this notebook is designed to work specifically with Frederik Kratzert's NeuralHydrology (NH; https://github.com/neuralhydrology/neuralhydrology) and Grey Nearing's SACSMA-SNOW17 (SAC-SMA; https://github.com/Upstream-Tech/SACSMA-SNOW17). NH provides a flexible framework with a variety of tools specifically designed for straightforward application of Long Short-Term Memory networks to hydrological modeling. The SACSMA-SNOW17 model provides a Python interface for the SAC-SMA model.\n",
    "\n",
    "As climate change continues to impact our world, it becomes increasingly important to understand the robustness of our best (Long Short-Term Memory networks), and most commonly used (conceptual models like SAC-SMA), hydrological models. To begin characterizing model robustness we need to first create dynamic climate indices to serve as the independent variable of our experiments. This notebook will output a pickled dictionary containing dataframes for each basin with various dynamic climate indices."
   ]
  },
  {
   "cell_type": "markdown",
   "id": "80de4844",
   "metadata": {},
   "source": [
    "### Import Libraries"
   ]
  },
  {
   "cell_type": "code",
   "execution_count": 1,
   "id": "24416a15",
   "metadata": {},
   "outputs": [],
   "source": [
    "import os\n",
    "import supplemental\n",
    "import pickle as pkl\n",
    "from pathlib import Path\n",
    "from supplemental import config\n",
    "from supplemental.utils import load_basin_file\n",
    "from supplemental.climateindices import calculate_camels_us_dyn_climate_indices"
   ]
  },
  {
   "cell_type": "markdown",
   "id": "ec4ccee8",
   "metadata": {},
   "source": [
    "### Define Parameters"
   ]
  },
  {
   "cell_type": "markdown",
   "id": "126884d0",
   "metadata": {},
   "source": [
    "##### Most Important Experiment Parameters"
   ]
  },
  {
   "cell_type": "markdown",
   "id": "e5f670c3",
   "metadata": {},
   "source": [
    "First we need to define which forcing source we want to create dynamic climate indices from. Five forcing sources are avaliable through CAMELS, including daymet, maurer, maurer_extended, nldas, and nldas_extended. We also need to specify the length of the rolling window, as NeuralHydrology's calculate_camels_us_dyn_climate_indices uses a rolling mean window to calculate the dynamic climate indices."
   ]
  },
  {
   "cell_type": "code",
   "execution_count": 2,
   "id": "2ff2cfd6",
   "metadata": {},
   "outputs": [],
   "source": [
    "#########################################################################################\n",
    "\n",
    "#Specify which forcing source we want to create dynamic climate indices from\n",
    "forcing = 'daymet'\n",
    "\n",
    "#Specify mean rolling window length\n",
    "window = 365\n",
    "\n",
    "#########################################################################################\n",
    "\n",
    "#If the dynamic climate indices file for the forcing, window, and basin list already exists, overwrite it?\n",
    "overwrite = False\n",
    "\n",
    "#########################################################################################"
   ]
  },
  {
   "cell_type": "markdown",
   "id": "a868a262",
   "metadata": {},
   "source": [
    "##### Paths"
   ]
  },
  {
   "cell_type": "markdown",
   "id": "39acae38",
   "metadata": {},
   "source": [
    "Next, we need to specify several paths. Example path endings are included above each requested path to help with this. Most should not have to be changed if this repositories native file structure is used."
   ]
  },
  {
   "cell_type": "code",
   "execution_count": 3,
   "id": "d3354fed",
   "metadata": {},
   "outputs": [],
   "source": [
    "#########################################################################################\n",
    "\n",
    "#Working dir (current path; ../NeuralHydrology-Climate-Experiments)\n",
    "working_dir = Path(os.getcwd())\n",
    "\n",
    "#Path to config dir (../configs)\n",
    "config_dir = working_dir / 'configs'\n",
    "\n",
    "#Path to dynamic climate indices directory (../configs/dynamic_climate_indices)\n",
    "dyn_clim_ind_dir = config_dir / 'dynamic_climate_indices'\n",
    "\n",
    "#Path to dummy config file (../dummy_configs/climate_experiment_static_dummy.yml)\n",
    "dummy_config_file = config_dir / 'dummy_configs' / f'climate_experiment_static_dummy.yml' \n",
    "\n",
    "#########################################################################################"
   ]
  },
  {
   "cell_type": "markdown",
   "id": "a873e679",
   "metadata": {},
   "source": [
    "**You should not have to edit anything below this cell.**\n",
    "\n",
    "The cell below loads the dummy config file and retrieves the basin list file. Default is the 531_basin_list.txt file."
   ]
  },
  {
   "cell_type": "code",
   "execution_count": 4,
   "id": "75c5fdc0",
   "metadata": {},
   "outputs": [],
   "source": [
    "#########################################################################################\n",
    "\n",
    "#Load config using NH's Config function\n",
    "cfg = config.Config(dummy_config_file)\n",
    "\n",
    "#Retrieve list of basins\n",
    "basins = load_basin_file(cfg.train_basin_file)\n",
    "\n",
    "#Get length of basins list\n",
    "num_basins = len(basins)\n",
    "\n",
    "#File path and name of output file; named according to forcing, number of basins, and window length variables\n",
    "output_file = dyn_clim_ind_dir / f'dyn_clim_indices_{forcing}_{num_basins}basins_{window}.p'\n",
    "\n",
    "#########################################################################################"
   ]
  },
  {
   "cell_type": "markdown",
   "id": "5004ee23",
   "metadata": {},
   "source": [
    "### Calculate Dynamic Climate Indices"
   ]
  },
  {
   "cell_type": "markdown",
   "id": "2819de30",
   "metadata": {},
   "source": [
    "Finally, calculate dynamic climate indices for the specified forcing, basin list, and window length using NH's calculate_camels_us_dyn_climate_indices function."
   ]
  },
  {
   "cell_type": "code",
   "execution_count": 5,
   "id": "b7f0e4d2",
   "metadata": {
    "scrolled": true
   },
   "outputs": [
    {
     "name": "stdout",
     "output_type": "stream",
     "text": [
      "100%|██████████| 531/531 [01:40<00:00,  5.29it/s]\n"
     ]
    }
   ],
   "source": [
    "#If the output file above does not already exist OR we want to overwrite the existing file...\n",
    "if os.path.exists(output_file) == False or overwrite == True:\n",
    "\n",
    "    #Calculate dynamic climate indices from CAMELS forcing data\n",
    "    climate_indices = calculate_camels_us_dyn_climate_indices(data_dir=cfg.data_dir,\n",
    "                                                              basins=basins,\n",
    "                                                              window_length=window,\n",
    "                                                              forcings=forcing,\n",
    "                                                              output_file=output_file)\n",
    "\n",
    "    #Save climate_indices to the specified file path and name\n",
    "    with open(output_file,'wb') as f:\n",
    "        pkl.dump(climate_indices, f)"
   ]
  },
  {
   "cell_type": "code",
   "execution_count": 6,
   "id": "9ad98158",
   "metadata": {},
   "outputs": [
    {
     "data": {
      "text/html": [
       "<div>\n",
       "<style scoped>\n",
       "    .dataframe tbody tr th:only-of-type {\n",
       "        vertical-align: middle;\n",
       "    }\n",
       "\n",
       "    .dataframe tbody tr th {\n",
       "        vertical-align: top;\n",
       "    }\n",
       "\n",
       "    .dataframe thead th {\n",
       "        text-align: right;\n",
       "    }\n",
       "</style>\n",
       "<table border=\"1\" class=\"dataframe\">\n",
       "  <thead>\n",
       "    <tr style=\"text-align: right;\">\n",
       "      <th></th>\n",
       "      <th>p_mean_dyn</th>\n",
       "      <th>pet_mean_dyn</th>\n",
       "      <th>aridity_dyn</th>\n",
       "      <th>t_mean_dyn</th>\n",
       "      <th>frac_snow_dyn</th>\n",
       "      <th>high_prec_freq_dyn</th>\n",
       "      <th>high_prec_dur_dyn</th>\n",
       "      <th>low_prec_freq_dyn</th>\n",
       "      <th>low_prec_dur_dyn</th>\n",
       "    </tr>\n",
       "    <tr>\n",
       "      <th>date</th>\n",
       "      <th></th>\n",
       "      <th></th>\n",
       "      <th></th>\n",
       "      <th></th>\n",
       "      <th></th>\n",
       "      <th></th>\n",
       "      <th></th>\n",
       "      <th></th>\n",
       "      <th></th>\n",
       "    </tr>\n",
       "  </thead>\n",
       "  <tbody>\n",
       "    <tr>\n",
       "      <th>2014-12-27</th>\n",
       "      <td>4.267370</td>\n",
       "      <td>1.250086</td>\n",
       "      <td>0.292941</td>\n",
       "      <td>6.250356</td>\n",
       "      <td>0.233348</td>\n",
       "      <td>0.049315</td>\n",
       "      <td>1.384615</td>\n",
       "      <td>0.627397</td>\n",
       "      <td>3.578125</td>\n",
       "    </tr>\n",
       "    <tr>\n",
       "      <th>2014-12-28</th>\n",
       "      <td>4.281918</td>\n",
       "      <td>1.250447</td>\n",
       "      <td>0.292030</td>\n",
       "      <td>6.277178</td>\n",
       "      <td>0.232555</td>\n",
       "      <td>0.046575</td>\n",
       "      <td>1.307692</td>\n",
       "      <td>0.624658</td>\n",
       "      <td>3.619048</td>\n",
       "    </tr>\n",
       "    <tr>\n",
       "      <th>2014-12-29</th>\n",
       "      <td>4.258164</td>\n",
       "      <td>1.250047</td>\n",
       "      <td>0.293565</td>\n",
       "      <td>6.284644</td>\n",
       "      <td>0.228274</td>\n",
       "      <td>0.049315</td>\n",
       "      <td>1.384615</td>\n",
       "      <td>0.627397</td>\n",
       "      <td>3.578125</td>\n",
       "    </tr>\n",
       "    <tr>\n",
       "      <th>2014-12-30</th>\n",
       "      <td>4.214740</td>\n",
       "      <td>1.249928</td>\n",
       "      <td>0.296561</td>\n",
       "      <td>6.283027</td>\n",
       "      <td>0.220323</td>\n",
       "      <td>0.052055</td>\n",
       "      <td>1.357143</td>\n",
       "      <td>0.630137</td>\n",
       "      <td>3.593750</td>\n",
       "    </tr>\n",
       "    <tr>\n",
       "      <th>2014-12-31</th>\n",
       "      <td>4.214740</td>\n",
       "      <td>1.249973</td>\n",
       "      <td>0.296572</td>\n",
       "      <td>6.291493</td>\n",
       "      <td>0.220323</td>\n",
       "      <td>0.052055</td>\n",
       "      <td>1.357143</td>\n",
       "      <td>0.630137</td>\n",
       "      <td>3.593750</td>\n",
       "    </tr>\n",
       "  </tbody>\n",
       "</table>\n",
       "</div>"
      ],
      "text/plain": [
       "            p_mean_dyn  pet_mean_dyn  aridity_dyn  t_mean_dyn  frac_snow_dyn  \\\n",
       "date                                                                           \n",
       "2014-12-27    4.267370      1.250086     0.292941    6.250356       0.233348   \n",
       "2014-12-28    4.281918      1.250447     0.292030    6.277178       0.232555   \n",
       "2014-12-29    4.258164      1.250047     0.293565    6.284644       0.228274   \n",
       "2014-12-30    4.214740      1.249928     0.296561    6.283027       0.220323   \n",
       "2014-12-31    4.214740      1.249973     0.296572    6.291493       0.220323   \n",
       "\n",
       "            high_prec_freq_dyn  high_prec_dur_dyn  low_prec_freq_dyn  \\\n",
       "date                                                                   \n",
       "2014-12-27            0.049315           1.384615           0.627397   \n",
       "2014-12-28            0.046575           1.307692           0.624658   \n",
       "2014-12-29            0.049315           1.384615           0.627397   \n",
       "2014-12-30            0.052055           1.357143           0.630137   \n",
       "2014-12-31            0.052055           1.357143           0.630137   \n",
       "\n",
       "            low_prec_dur_dyn  \n",
       "date                          \n",
       "2014-12-27          3.578125  \n",
       "2014-12-28          3.619048  \n",
       "2014-12-29          3.578125  \n",
       "2014-12-30          3.593750  \n",
       "2014-12-31          3.593750  "
      ]
     },
     "execution_count": 6,
     "metadata": {},
     "output_type": "execute_result"
    }
   ],
   "source": [
    "#Take a peek at our new climate indices dataframe for an example basin\n",
    "#.tail() is used because .head() often shows all NaNs, which is normal\n",
    "climate_indices[basins[0]].tail()"
   ]
  },
  {
   "cell_type": "markdown",
   "id": "7764c720",
   "metadata": {},
   "source": [
    "Now that we have dynamic climate indices calculated, we can create configuration files."
   ]
  }
 ],
 "metadata": {
  "kernelspec": {
   "display_name": "Python 3",
   "language": "python",
   "name": "python3"
  },
  "language_info": {
   "codemirror_mode": {
    "name": "ipython",
    "version": 3
   },
   "file_extension": ".py",
   "mimetype": "text/x-python",
   "name": "python",
   "nbconvert_exporter": "python",
   "pygments_lexer": "ipython3",
   "version": "3.7.9"
  }
 },
 "nbformat": 4,
 "nbformat_minor": 5
}
