{
 "cells": [
  {
   "cell_type": "markdown",
   "id": "48d91cab",
   "metadata": {},
   "source": [
    "# Create Dynamic Climate Indices"
   ]
  },
  {
   "cell_type": "markdown",
   "id": "59015613",
   "metadata": {},
   "source": [
    "Notebook 1/X\n",
    "\n",
    "This notebook was written by Logan Qualls. Data for this work is sourced from the National Center for Atmospheric Research's Catchment Attributes and Meterology for Large-Sample Studies (CAMELS) dataset, and this notebook is designed to work specifically with Frederik Kratzert's NeuralHydrology (NH; https://github.com/neuralhydrology/neuralhydrology) and Grey Nearing's SACSMA-SNOW17 (SAC-SMA; https://github.com/Upstream-Tech/SACSMA-SNOW17). NH provides a flexible framework with a variety of tools specifically designed for straightforward application of Long Short-Term Memory networks to hydrological modeling. The SACSMA-SNOW17 model provides a Python interface for the SAC-SMA model.\n",
    "\n",
    "As climate change continues to impact our world, it becomes increasingly important to understand the robustness of our best (Long Short-Term Memory networks), and most commonly used (conceptual models like SAC-SMA), hydrological models. To begin characterizing model robustness we need to first create dynamic climate indices to serve as the independent variable of our experiments. This notebook will output a pickled dictionary containing dataframes for each basin with various dynamic climate indices."
   ]
  },
  {
   "cell_type": "markdown",
   "id": "80de4844",
   "metadata": {},
   "source": [
    "### Import Libraries"
   ]
  },
  {
   "cell_type": "code",
   "execution_count": 1,
   "id": "24416a15",
   "metadata": {},
   "outputs": [],
   "source": [
    "import os\n",
    "import functions\n",
    "import pickle as pkl\n",
    "from pathlib import Path\n",
    "from functions import config\n",
    "\n",
    "#Import NH functions\n",
    "from functions.utils import load_basin_file\n",
    "from functions.climateindices import calculate_camels_us_dyn_climate_indices"
   ]
  },
  {
   "cell_type": "markdown",
   "id": "ec4ccee8",
   "metadata": {},
   "source": [
    "### Define Parameters"
   ]
  },
  {
   "cell_type": "markdown",
   "id": "126884d0",
   "metadata": {},
   "source": [
    "##### Most Important Experiment Parameters"
   ]
  },
  {
   "cell_type": "markdown",
   "id": "e5f670c3",
   "metadata": {},
   "source": [
    "First we need to define which forcing source we want to create dynamic climate indices from. Five forcing sources are avaliable through CAMELS, including daymet, maurer, maurer_extended, nldas, and nldas_extended. Next, we need to specify which basin list we want to calculate the dynamic climate indices for. Finally, the \"window\" variable sets the length of the mean rolling window to be used to calculate the dynamic climate indices.\n",
    "\n",
    "An explicit overwrite variable is included to prevent accidental overwrites if the dynamic climate indices file already exists."
   ]
  },
  {
   "cell_type": "code",
   "execution_count": 2,
   "id": "2ff2cfd6",
   "metadata": {},
   "outputs": [],
   "source": [
    "#########################################################################################\n",
    "\n",
    "#Specify which forcing source we want to create dynamic climate indices from\n",
    "forcing = 'maurer_extended'\n",
    "\n",
    "#Specify the number of the basin list we want to use; must already exist! (531 and 8 provided)\n",
    "basin_list_num = 531\n",
    "\n",
    "#Specify length of mean rolling window to calculate dynamic climate indices\n",
    "window = 365\n",
    "\n",
    "#########################################################################################\n",
    "\n",
    "#If the dynamic climate indices file for the forcing, window, and basin list already exists, overwrite it?\n",
    "overwrite = True\n",
    "\n",
    "#########################################################################################"
   ]
  },
  {
   "cell_type": "markdown",
   "id": "a868a262",
   "metadata": {},
   "source": [
    "##### Paths"
   ]
  },
  {
   "cell_type": "markdown",
   "id": "39acae38",
   "metadata": {},
   "source": [
    "Next, we need to specify several paths and files. Example path endings are included above each requested path to help with this. Most should not have to be changed if this repositories native file structure is used."
   ]
  },
  {
   "cell_type": "code",
   "execution_count": 3,
   "id": "d3354fed",
   "metadata": {},
   "outputs": [],
   "source": [
    "#########################################################################################\n",
    "\n",
    "#Working dir (current path; ../NeuralHydrology-Climate-Experiments)\n",
    "working_dir = Path(os.getcwd())\n",
    "\n",
    "#Path to config comps (../config_complementaries)\n",
    "config_comp_dir = working_dir / 'config_complementaries'\n",
    "\n",
    "#Path to camels dir (../camels/basin_dataset_public_v1p2)\n",
    "camels_dir = working_dir / 'camels' / 'basin_dataset_public_v1p2'\n",
    "\n",
    "#Path to dynamic climate indices directory (../configs/dynamic_climate_indices)\n",
    "#This is where the dynamic climate indices files will be saved\n",
    "dyn_clim_ind_dir = config_comp_dir / 'dynamic_climate_indices'\n",
    "\n",
    "#List to basin file; uses basin_list_num; MAKE SURE TO DOUBLE CHECK THIS\n",
    "basin_list_file = config_comp_dir / 'basin_lists' / f'{basin_list_num}_basin_list.txt'\n",
    "\n",
    "#Path to static dummy config file (../dummy_configs/climate_experiment_static_dummy.yml)\n",
    "dummy_config_file = config_comp_dir / 'dummy_configs' / f'climate_experiment_static_dummy.yml' \n",
    "\n",
    "#File path and name of output file; named according to forcing\n",
    "output_file = dyn_clim_ind_dir / f'dyn_clim_indices_{forcing}_{basin_list_num}basins_{window}.p'\n",
    "\n",
    "#########################################################################################"
   ]
  },
  {
   "cell_type": "markdown",
   "id": "ef1d124d",
   "metadata": {},
   "source": [
    "**You should not have to edit anything below this cell.**"
   ]
  },
  {
   "cell_type": "markdown",
   "id": "7b31cc41",
   "metadata": {},
   "source": [
    "### Explicit Warnings"
   ]
  },
  {
   "cell_type": "markdown",
   "id": "285599e5",
   "metadata": {},
   "source": [
    "As a safety measure, explicit warnings have been included to warn you if the defined dynamic climate indices file already exists and if you are going to overwrite it by continuing. It also double checks if the basin list you provided exists or not. "
   ]
  },
  {
   "cell_type": "code",
   "execution_count": 4,
   "id": "fb848021",
   "metadata": {},
   "outputs": [],
   "source": [
    "#If the dynamic climate indices file specified above already exists...\n",
    "if os.path.exists(output_file) == True:\n",
    "    \n",
    "    #Warn us!\n",
    "    print('\\033[91m'+'\\033[1m'+'Dynamic climate indices file already exists.')\n",
    "    \n",
    "    #If we said we wanted to overwrite, that's fine, but...\n",
    "    if overwrite == True:\n",
    "        \n",
    "        #Warn us!\n",
    "        print('\\033[91m'+'\\033[1m'+'Dynamic climate indices file will be overwritten.')\n",
    "\n",
    "#If the specified basin file does not exist...\n",
    "if os.path.exists(basin_list_file) == False:\n",
    "    \n",
    "    #Warn us!\n",
    "    print('\\033[91m'+'\\033[1m'+f'{basin_list_num} basin list does not exist.')"
   ]
  },
  {
   "cell_type": "markdown",
   "id": "5004ee23",
   "metadata": {},
   "source": [
    "### Calculate Dynamic Climate Indices"
   ]
  },
  {
   "cell_type": "markdown",
   "id": "2819de30",
   "metadata": {},
   "source": [
    "Now we can calculate dynamic climate indices for the specified forcing using NH's calculate_camels_us_dyn_climate_indices function."
   ]
  },
  {
   "cell_type": "code",
   "execution_count": 5,
   "id": "b7f0e4d2",
   "metadata": {
    "scrolled": true
   },
   "outputs": [
    {
     "name": "stdout",
     "output_type": "stream",
     "text": [
      "100%|██████████| 531/531 [01:21<00:00,  6.48it/s]\n"
     ]
    }
   ],
   "source": [
    "#Get list of basins from basin_list_file\n",
    "basins = load_basin_file(basin_list_file)\n",
    "\n",
    "#If the output file above does not already exist OR we want to overwrite the existing file...\n",
    "if os.path.exists(output_file) == False or overwrite == True:\n",
    "\n",
    "    #Calculate dynamic climate indices from CAMELS forcing data\n",
    "    climate_indices = calculate_camels_us_dyn_climate_indices(data_dir=camels_dir,\n",
    "                                                              basins=basins,\n",
    "                                                              window_length=window,\n",
    "                                                              forcings=forcing,\n",
    "                                                              output_file=output_file)\n",
    "\n",
    "    #Save climate_indices to the specified file path and name\n",
    "    with open(output_file,'wb') as f:\n",
    "        pkl.dump(climate_indices, f)"
   ]
  },
  {
   "cell_type": "code",
   "execution_count": 6,
   "id": "9ad98158",
   "metadata": {},
   "outputs": [
    {
     "data": {
      "text/html": [
       "<div>\n",
       "<style scoped>\n",
       "    .dataframe tbody tr th:only-of-type {\n",
       "        vertical-align: middle;\n",
       "    }\n",
       "\n",
       "    .dataframe tbody tr th {\n",
       "        vertical-align: top;\n",
       "    }\n",
       "\n",
       "    .dataframe thead th {\n",
       "        text-align: right;\n",
       "    }\n",
       "</style>\n",
       "<table border=\"1\" class=\"dataframe\">\n",
       "  <thead>\n",
       "    <tr style=\"text-align: right;\">\n",
       "      <th></th>\n",
       "      <th>p_mean_dyn</th>\n",
       "      <th>pet_mean_dyn</th>\n",
       "      <th>aridity_dyn</th>\n",
       "      <th>t_mean_dyn</th>\n",
       "      <th>frac_snow_dyn</th>\n",
       "      <th>high_prec_freq_dyn</th>\n",
       "      <th>high_prec_dur_dyn</th>\n",
       "      <th>low_prec_freq_dyn</th>\n",
       "      <th>low_prec_dur_dyn</th>\n",
       "    </tr>\n",
       "    <tr>\n",
       "      <th>date</th>\n",
       "      <th></th>\n",
       "      <th></th>\n",
       "      <th></th>\n",
       "      <th></th>\n",
       "      <th></th>\n",
       "      <th></th>\n",
       "      <th></th>\n",
       "      <th></th>\n",
       "      <th></th>\n",
       "    </tr>\n",
       "  </thead>\n",
       "  <tbody>\n",
       "    <tr>\n",
       "      <th>2008-12-27</th>\n",
       "      <td>4.085863</td>\n",
       "      <td>1.349292</td>\n",
       "      <td>0.330234</td>\n",
       "      <td>7.191932</td>\n",
       "      <td>0.258834</td>\n",
       "      <td>0.035616</td>\n",
       "      <td>1.300000</td>\n",
       "      <td>0.501370</td>\n",
       "      <td>3.812500</td>\n",
       "    </tr>\n",
       "    <tr>\n",
       "      <th>2008-12-28</th>\n",
       "      <td>4.070795</td>\n",
       "      <td>1.348977</td>\n",
       "      <td>0.331379</td>\n",
       "      <td>7.203274</td>\n",
       "      <td>0.254099</td>\n",
       "      <td>0.035616</td>\n",
       "      <td>1.300000</td>\n",
       "      <td>0.501370</td>\n",
       "      <td>3.812500</td>\n",
       "    </tr>\n",
       "    <tr>\n",
       "      <th>2008-12-29</th>\n",
       "      <td>4.056521</td>\n",
       "      <td>1.348238</td>\n",
       "      <td>0.332363</td>\n",
       "      <td>7.214274</td>\n",
       "      <td>0.251163</td>\n",
       "      <td>0.035616</td>\n",
       "      <td>1.300000</td>\n",
       "      <td>0.504110</td>\n",
       "      <td>3.755102</td>\n",
       "    </tr>\n",
       "    <tr>\n",
       "      <th>2008-12-30</th>\n",
       "      <td>4.029288</td>\n",
       "      <td>1.347872</td>\n",
       "      <td>0.334519</td>\n",
       "      <td>7.215863</td>\n",
       "      <td>0.246102</td>\n",
       "      <td>0.035616</td>\n",
       "      <td>1.300000</td>\n",
       "      <td>0.506849</td>\n",
       "      <td>3.775510</td>\n",
       "    </tr>\n",
       "    <tr>\n",
       "      <th>2008-12-31</th>\n",
       "      <td>3.986795</td>\n",
       "      <td>1.347671</td>\n",
       "      <td>0.338034</td>\n",
       "      <td>7.220685</td>\n",
       "      <td>0.238067</td>\n",
       "      <td>0.041096</td>\n",
       "      <td>1.363636</td>\n",
       "      <td>0.509589</td>\n",
       "      <td>3.795918</td>\n",
       "    </tr>\n",
       "  </tbody>\n",
       "</table>\n",
       "</div>"
      ],
      "text/plain": [
       "            p_mean_dyn  pet_mean_dyn  aridity_dyn  t_mean_dyn  frac_snow_dyn  \\\n",
       "date                                                                           \n",
       "2008-12-27    4.085863      1.349292     0.330234    7.191932       0.258834   \n",
       "2008-12-28    4.070795      1.348977     0.331379    7.203274       0.254099   \n",
       "2008-12-29    4.056521      1.348238     0.332363    7.214274       0.251163   \n",
       "2008-12-30    4.029288      1.347872     0.334519    7.215863       0.246102   \n",
       "2008-12-31    3.986795      1.347671     0.338034    7.220685       0.238067   \n",
       "\n",
       "            high_prec_freq_dyn  high_prec_dur_dyn  low_prec_freq_dyn  \\\n",
       "date                                                                   \n",
       "2008-12-27            0.035616           1.300000           0.501370   \n",
       "2008-12-28            0.035616           1.300000           0.501370   \n",
       "2008-12-29            0.035616           1.300000           0.504110   \n",
       "2008-12-30            0.035616           1.300000           0.506849   \n",
       "2008-12-31            0.041096           1.363636           0.509589   \n",
       "\n",
       "            low_prec_dur_dyn  \n",
       "date                          \n",
       "2008-12-27          3.812500  \n",
       "2008-12-28          3.812500  \n",
       "2008-12-29          3.755102  \n",
       "2008-12-30          3.775510  \n",
       "2008-12-31          3.795918  "
      ]
     },
     "execution_count": 6,
     "metadata": {},
     "output_type": "execute_result"
    }
   ],
   "source": [
    "#Take a peek at our new climate indices dataframe for an example basin\n",
    "#.tail() is used because .head() often shows all NaNs, which is normal\n",
    "climate_indices[basins[0]].tail()"
   ]
  },
  {
   "cell_type": "markdown",
   "id": "7764c720",
   "metadata": {},
   "source": [
    "Now that we have dynamic climate indices calculated, we can create configuration files that use them."
   ]
  }
 ],
 "metadata": {
  "kernelspec": {
   "display_name": "Python 3",
   "language": "python",
   "name": "python3"
  },
  "language_info": {
   "codemirror_mode": {
    "name": "ipython",
    "version": 3
   },
   "file_extension": ".py",
   "mimetype": "text/x-python",
   "name": "python",
   "nbconvert_exporter": "python",
   "pygments_lexer": "ipython3",
   "version": "3.7.9"
  }
 },
 "nbformat": 4,
 "nbformat_minor": 5
}
