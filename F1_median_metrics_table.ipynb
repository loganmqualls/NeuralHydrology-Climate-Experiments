{
 "cells": [
  {
   "cell_type": "markdown",
   "id": "32141e4e",
   "metadata": {},
   "source": [
    "# Median Metrics Tables"
   ]
  },
  {
   "cell_type": "markdown",
   "id": "e79def6b",
   "metadata": {},
   "source": [
    "F1/FX"
   ]
  },
  {
   "cell_type": "markdown",
   "id": "28f5da08",
   "metadata": {},
   "source": [
    "This notebook was written by Logan Qualls. Data for this work is sourced from the National Center for Atmospheric Research's Catchment Attributes and Meterology for Large-Sample Studies (CAMELS) dataset, and this notebook is designed to work specifically with Frederik Kratzert's NeuralHydrology (NH; https://github.com/neuralhydrology/neuralhydrology) and Grey Nearing's SACSMA-SNOW17 (SAC-SMA; https://github.com/Upstream-Tech/SACSMA-SNOW17). NH provides a flexible framework with a variety of tools specifically designed for straightforward application of Long Short-Term Memory networks to hydrological modeling. The SACSMA-SNOW17 model provides a Python interface for the SAC-SMA model."
   ]
  },
  {
   "cell_type": "markdown",
   "id": "c3e982be",
   "metadata": {},
   "source": [
    "This notebook compiles all the median metrics for all avaliable models into several tables by type (extreme or random) and ultimately combines them for export."
   ]
  },
  {
   "cell_type": "markdown",
   "id": "804347ce",
   "metadata": {},
   "source": [
    "### Import Libraries"
   ]
  },
  {
   "cell_type": "code",
   "execution_count": 1,
   "id": "59e0c636",
   "metadata": {},
   "outputs": [],
   "source": [
    "import os\n",
    "import numpy as np\n",
    "import pandas as pd\n",
    "import pickle as pkl\n",
    "from pathlib import Path\n",
    "import matplotlib.pyplot as plt"
   ]
  },
  {
   "cell_type": "markdown",
   "id": "88668c7a",
   "metadata": {},
   "source": [
    "Here I remove the display limit for the rows and columns for Pandas DataFrames."
   ]
  },
  {
   "cell_type": "code",
   "execution_count": 2,
   "id": "e2c441b5",
   "metadata": {},
   "outputs": [],
   "source": [
    "#View all columns\n",
    "pd.set_option('display.max_columns', None)\n",
    "#View all rows\n",
    "pd.set_option('display.max_rows', None)"
   ]
  },
  {
   "cell_type": "markdown",
   "id": "d812d911",
   "metadata": {},
   "source": [
    "### Define Parameters"
   ]
  },
  {
   "cell_type": "markdown",
   "id": "7c450f06",
   "metadata": {},
   "source": [
    "The only parameters necessary for this notebook are the desired climate index and the path to the notebook_env_saves folder, if that folder has been moved from the original folder structure.\n",
    "\n"
   ]
  },
  {
   "cell_type": "markdown",
   "id": "7ada0e77",
   "metadata": {},
   "source": [
    "##### Notebook Configurations"
   ]
  },
  {
   "cell_type": "code",
   "execution_count": 3,
   "id": "76fa5132",
   "metadata": {},
   "outputs": [],
   "source": [
    "#########################################################################################\n",
    "\n",
    "#Define index we want to create tables and histograms for (currently only supports one)\n",
    "index = 'aridity'\n",
    "\n",
    "#########################################################################################"
   ]
  },
  {
   "cell_type": "markdown",
   "id": "9b95cac3",
   "metadata": {},
   "source": [
    "##### Paths"
   ]
  },
  {
   "cell_type": "code",
   "execution_count": 4,
   "id": "5731f01b",
   "metadata": {},
   "outputs": [],
   "source": [
    "#########################################################################################\n",
    "\n",
    "#Path to working directory (current directory)\n",
    "working_dir = Path(os.getcwd())\n",
    "\n",
    "#Path to notebook_env_saves directory (.../notebook_env_saves)\n",
    "env_saves_dir = working_dir / 'notebook_env_saves'\n",
    "\n",
    "#########################################################################################"
   ]
  },
  {
   "cell_type": "markdown",
   "id": "b371b06a",
   "metadata": {},
   "source": [
    "### Load Source Data"
   ]
  },
  {
   "cell_type": "markdown",
   "id": "eab06014",
   "metadata": {},
   "source": [
    "First we load in our source data. This cell automatically retrieves a list of files starting with 'basin', indicating that the file contains per-basin metrics (as opposed to overall, as for the case in the files starting with 'cdfs') for a model. Assuming you have ensembled and analyzed a model prior to running this notebook, it will be included in the resulting tables.\n",
    "\n",
    "Here we make a dictionary containing the per-basin metrics for each model."
   ]
  },
  {
   "cell_type": "code",
   "execution_count": 5,
   "id": "e2f0058c",
   "metadata": {},
   "outputs": [],
   "source": [
    "#Retreive list of experiments with existing basin_metrics_files\n",
    "metrics_list = [x for x in os.listdir(env_saves_dir) if x.startswith('basin')]\n",
    "\n",
    "#Initiate dictionary to store all loaded cdfs files\n",
    "metrics_dict = {}\n",
    "\n",
    "#For every file in cdfs_list...\n",
    "for file in metrics_list:\n",
    "    \n",
    "    #Define path to the file\n",
    "    path = env_saves_dir / file\n",
    "    \n",
    "    #Get name from file name\n",
    "    name = file.split('basin_metrics_')[1].split('.')[0]\n",
    "    \n",
    "    #Open path...\n",
    "    with open(path,'rb') as f:\n",
    "        \n",
    "        #...and load\n",
    "        metrics_dict[name] = pkl.load(f)"
   ]
  },
  {
   "cell_type": "markdown",
   "id": "090758b0",
   "metadata": {},
   "source": [
    "Here we make lists detailing what models are extreme and what models are random, as well as what types of experiments exist for each. Here we exclude the NWM benchmark runs -- they will be added later."
   ]
  },
  {
   "cell_type": "code",
   "execution_count": 6,
   "id": "5a685e2e",
   "metadata": {},
   "outputs": [],
   "source": [
    "#Retrieve list of loaded models\n",
    "models = list(metrics_dict.keys())\n",
    "#If a model does not contain 'random' in the name, it is an extreme experiment\n",
    "ext_models = [model for model in models if not 'random' in model and 'nwm_' not in model]\n",
    "#If a model contains 'random' in the name, it is a random experiment\n",
    "rand_models = [model for model in models if 'random' in model and 'nwm_' not in model]"
   ]
  },
  {
   "cell_type": "code",
   "execution_count": 7,
   "id": "68e9cc3d",
   "metadata": {},
   "outputs": [],
   "source": [
    "#Retrieve the keys for an example extreme model, which constitutes the avaliable extreme experiments\n",
    "ext_exps = list(metrics_dict[ext_models[0]].keys())\n",
    "#Only use experiments for the defined climate index\n",
    "ext_exps = [experiment for experiment in ext_exps if index in experiment]\n",
    "#Retrieve the keys for an example random model, which constitutes the avaliable random experiments\n",
    "rand_exps = list(metrics_dict[rand_models[0]].keys())\n",
    "#Only use experiments for the defined climate index\n",
    "metrics = list(metrics_dict[models[0]][ext_exps[0]].columns)"
   ]
  },
  {
   "cell_type": "markdown",
   "id": "d0cad3ce",
   "metadata": {},
   "source": [
    "### Median Metrics Tables"
   ]
  },
  {
   "cell_type": "markdown",
   "id": "01994097",
   "metadata": {},
   "source": [
    "##### Extreme Model Table"
   ]
  },
  {
   "cell_type": "code",
   "execution_count": 8,
   "id": "b9c16c8c",
   "metadata": {
    "scrolled": false
   },
   "outputs": [
    {
     "data": {
      "text/html": [
       "<div>\n",
       "<style scoped>\n",
       "    .dataframe tbody tr th:only-of-type {\n",
       "        vertical-align: middle;\n",
       "    }\n",
       "\n",
       "    .dataframe tbody tr th {\n",
       "        vertical-align: top;\n",
       "    }\n",
       "\n",
       "    .dataframe thead th {\n",
       "        text-align: right;\n",
       "    }\n",
       "</style>\n",
       "<table border=\"1\" class=\"dataframe\">\n",
       "  <thead>\n",
       "    <tr style=\"text-align: right;\">\n",
       "      <th></th>\n",
       "      <th></th>\n",
       "      <th>alpha_nse</th>\n",
       "      <th>beta_kge</th>\n",
       "      <th>beta_nse</th>\n",
       "      <th>kge</th>\n",
       "      <th>mse</th>\n",
       "      <th>nse</th>\n",
       "      <th>rmse</th>\n",
       "      <th>pearsonr</th>\n",
       "    </tr>\n",
       "  </thead>\n",
       "  <tbody>\n",
       "    <tr>\n",
       "      <th rowspan=\"2\" valign=\"top\">nh_dynamic_extreme_daymet_nwm</th>\n",
       "      <th>aridity_high</th>\n",
       "      <td>0.868716</td>\n",
       "      <td>0.987979</td>\n",
       "      <td>-0.004954</td>\n",
       "      <td>0.727424</td>\n",
       "      <td>0.494415</td>\n",
       "      <td>0.736661</td>\n",
       "      <td>0.703147</td>\n",
       "      <td>0.876347</td>\n",
       "    </tr>\n",
       "    <tr>\n",
       "      <th>aridity_low</th>\n",
       "      <td>0.870547</td>\n",
       "      <td>0.973161</td>\n",
       "      <td>-0.012992</td>\n",
       "      <td>0.758301</td>\n",
       "      <td>2.088403</td>\n",
       "      <td>0.748234</td>\n",
       "      <td>1.445131</td>\n",
       "      <td>0.876207</td>\n",
       "    </tr>\n",
       "    <tr>\n",
       "      <th rowspan=\"2\" valign=\"top\">nh_static_extreme_daymet_nwm</th>\n",
       "      <th>aridity_high</th>\n",
       "      <td>0.878733</td>\n",
       "      <td>1.022305</td>\n",
       "      <td>0.015431</td>\n",
       "      <td>0.746649</td>\n",
       "      <td>0.443082</td>\n",
       "      <td>0.741288</td>\n",
       "      <td>0.665644</td>\n",
       "      <td>0.879823</td>\n",
       "    </tr>\n",
       "    <tr>\n",
       "      <th>aridity_low</th>\n",
       "      <td>0.856995</td>\n",
       "      <td>0.937718</td>\n",
       "      <td>-0.03082</td>\n",
       "      <td>0.75456</td>\n",
       "      <td>2.082557</td>\n",
       "      <td>0.750663</td>\n",
       "      <td>1.443107</td>\n",
       "      <td>0.880899</td>\n",
       "    </tr>\n",
       "    <tr>\n",
       "      <th>nh_static_extreme_daymet_all</th>\n",
       "      <th>aridity_high</th>\n",
       "      <td>0.856041</td>\n",
       "      <td>1.044905</td>\n",
       "      <td>0.026248</td>\n",
       "      <td>0.680178</td>\n",
       "      <td>0.432945</td>\n",
       "      <td>0.710859</td>\n",
       "      <td>0.657986</td>\n",
       "      <td>0.87075</td>\n",
       "    </tr>\n",
       "  </tbody>\n",
       "</table>\n",
       "</div>"
      ],
      "text/plain": [
       "                                           alpha_nse  beta_kge  beta_nse  \\\n",
       "nh_dynamic_extreme_daymet_nwm aridity_high  0.868716  0.987979 -0.004954   \n",
       "                              aridity_low   0.870547  0.973161 -0.012992   \n",
       "nh_static_extreme_daymet_nwm  aridity_high  0.878733  1.022305  0.015431   \n",
       "                              aridity_low   0.856995  0.937718  -0.03082   \n",
       "nh_static_extreme_daymet_all  aridity_high  0.856041  1.044905  0.026248   \n",
       "\n",
       "                                                 kge       mse       nse  \\\n",
       "nh_dynamic_extreme_daymet_nwm aridity_high  0.727424  0.494415  0.736661   \n",
       "                              aridity_low   0.758301  2.088403  0.748234   \n",
       "nh_static_extreme_daymet_nwm  aridity_high  0.746649  0.443082  0.741288   \n",
       "                              aridity_low    0.75456  2.082557  0.750663   \n",
       "nh_static_extreme_daymet_all  aridity_high  0.680178  0.432945  0.710859   \n",
       "\n",
       "                                                rmse  pearsonr  \n",
       "nh_dynamic_extreme_daymet_nwm aridity_high  0.703147  0.876347  \n",
       "                              aridity_low   1.445131  0.876207  \n",
       "nh_static_extreme_daymet_nwm  aridity_high  0.665644  0.879823  \n",
       "                              aridity_low   1.443107  0.880899  \n",
       "nh_static_extreme_daymet_all  aridity_high  0.657986   0.87075  "
      ]
     },
     "execution_count": 8,
     "metadata": {},
     "output_type": "execute_result"
    }
   ],
   "source": [
    "#Create multiindex for extreme models and experiments\n",
    "exp_multidex = pd.MultiIndex.from_product([ext_models,ext_exps])\n",
    "\n",
    "#Create dataframe with extreme multiindex\n",
    "ext_median_df = pd.DataFrame(columns=metrics,index=exp_multidex)\n",
    "\n",
    "#For every extreme model...\n",
    "for model in ext_models:\n",
    "    \n",
    "    #Get a list of that model's experiments\n",
    "    experiments = list(metrics_dict[model].keys())\n",
    "    \n",
    "    #And for each of those experiments...\n",
    "    for experiment in experiments:\n",
    "        \n",
    "        #If the defined index is in the experiment...\n",
    "        if index in experiment:\n",
    "            \n",
    "            #Get a list of metrics\n",
    "            metrics = list(metrics_dict[model][experiment].columns)\n",
    "            \n",
    "            #And for each of those metrics...\n",
    "            for metric in metrics:\n",
    "                \n",
    "                #Calculate the median value of that metric and save it into ext_median_df\n",
    "                ext_median_df.loc[model,experiment][metric] = np.median(metrics_dict[model][experiment][metric])\n",
    "\n",
    "#Show extreme model median metrics table\n",
    "ext_median_df.head()"
   ]
  },
  {
   "cell_type": "markdown",
   "id": "6da3e065",
   "metadata": {},
   "source": [
    "##### Random Model Table (Median)"
   ]
  },
  {
   "cell_type": "markdown",
   "id": "00c44b75",
   "metadata": {},
   "source": [
    "Here we create a table detailing the each **median** metric score for the 531 CAMELS basins. "
   ]
  },
  {
   "cell_type": "code",
   "execution_count": 9,
   "id": "62298dc2",
   "metadata": {},
   "outputs": [
    {
     "data": {
      "text/html": [
       "<div>\n",
       "<style scoped>\n",
       "    .dataframe tbody tr th:only-of-type {\n",
       "        vertical-align: middle;\n",
       "    }\n",
       "\n",
       "    .dataframe tbody tr th {\n",
       "        vertical-align: top;\n",
       "    }\n",
       "\n",
       "    .dataframe thead th {\n",
       "        text-align: right;\n",
       "    }\n",
       "</style>\n",
       "<table border=\"1\" class=\"dataframe\">\n",
       "  <thead>\n",
       "    <tr style=\"text-align: right;\">\n",
       "      <th></th>\n",
       "      <th></th>\n",
       "      <th>alpha_nse</th>\n",
       "      <th>beta_kge</th>\n",
       "      <th>beta_nse</th>\n",
       "      <th>kge</th>\n",
       "      <th>mse</th>\n",
       "      <th>nse</th>\n",
       "      <th>rmse</th>\n",
       "      <th>pearsonr</th>\n",
       "    </tr>\n",
       "    <tr>\n",
       "      <th>models</th>\n",
       "      <th>experiments</th>\n",
       "      <th></th>\n",
       "      <th></th>\n",
       "      <th></th>\n",
       "      <th></th>\n",
       "      <th></th>\n",
       "      <th></th>\n",
       "      <th></th>\n",
       "      <th></th>\n",
       "    </tr>\n",
       "  </thead>\n",
       "  <tbody>\n",
       "    <tr>\n",
       "      <th rowspan=\"5\" valign=\"top\">nh_dynamic_random_daymet_all</th>\n",
       "      <th>0</th>\n",
       "      <td>0.890283</td>\n",
       "      <td>0.987786</td>\n",
       "      <td>-0.004893</td>\n",
       "      <td>0.78015</td>\n",
       "      <td>1.174311</td>\n",
       "      <td>0.772925</td>\n",
       "      <td>1.083656</td>\n",
       "      <td>0.894566</td>\n",
       "    </tr>\n",
       "    <tr>\n",
       "      <th>1</th>\n",
       "      <td>0.88598</td>\n",
       "      <td>0.987089</td>\n",
       "      <td>-0.006193</td>\n",
       "      <td>0.776459</td>\n",
       "      <td>1.080283</td>\n",
       "      <td>0.779533</td>\n",
       "      <td>1.039367</td>\n",
       "      <td>0.893854</td>\n",
       "    </tr>\n",
       "    <tr>\n",
       "      <th>2</th>\n",
       "      <td>0.904534</td>\n",
       "      <td>0.995917</td>\n",
       "      <td>-0.00084</td>\n",
       "      <td>0.784439</td>\n",
       "      <td>1.143959</td>\n",
       "      <td>0.770243</td>\n",
       "      <td>1.06956</td>\n",
       "      <td>0.890405</td>\n",
       "    </tr>\n",
       "    <tr>\n",
       "      <th>3</th>\n",
       "      <td>0.895389</td>\n",
       "      <td>0.980272</td>\n",
       "      <td>-0.010066</td>\n",
       "      <td>0.787509</td>\n",
       "      <td>1.070211</td>\n",
       "      <td>0.776493</td>\n",
       "      <td>1.03451</td>\n",
       "      <td>0.894492</td>\n",
       "    </tr>\n",
       "    <tr>\n",
       "      <th>4</th>\n",
       "      <td>0.891942</td>\n",
       "      <td>0.990021</td>\n",
       "      <td>-0.004867</td>\n",
       "      <td>0.776818</td>\n",
       "      <td>1.171692</td>\n",
       "      <td>0.768021</td>\n",
       "      <td>1.082447</td>\n",
       "      <td>0.896063</td>\n",
       "    </tr>\n",
       "  </tbody>\n",
       "</table>\n",
       "</div>"
      ],
      "text/plain": [
       "                                         alpha_nse  beta_kge  beta_nse  \\\n",
       "models                       experiments                                 \n",
       "nh_dynamic_random_daymet_all 0            0.890283  0.987786 -0.004893   \n",
       "                             1             0.88598  0.987089 -0.006193   \n",
       "                             2            0.904534  0.995917  -0.00084   \n",
       "                             3            0.895389  0.980272 -0.010066   \n",
       "                             4            0.891942  0.990021 -0.004867   \n",
       "\n",
       "                                               kge       mse       nse  \\\n",
       "models                       experiments                                 \n",
       "nh_dynamic_random_daymet_all 0             0.78015  1.174311  0.772925   \n",
       "                             1            0.776459  1.080283  0.779533   \n",
       "                             2            0.784439  1.143959  0.770243   \n",
       "                             3            0.787509  1.070211  0.776493   \n",
       "                             4            0.776818  1.171692  0.768021   \n",
       "\n",
       "                                              rmse  pearsonr  \n",
       "models                       experiments                      \n",
       "nh_dynamic_random_daymet_all 0            1.083656  0.894566  \n",
       "                             1            1.039367  0.893854  \n",
       "                             2             1.06956  0.890405  \n",
       "                             3             1.03451  0.894492  \n",
       "                             4            1.082447  0.896063  "
      ]
     },
     "execution_count": 9,
     "metadata": {},
     "output_type": "execute_result"
    }
   ],
   "source": [
    "#Create multiindex for random models and experiments\n",
    "rand_multidex = pd.MultiIndex.from_product([rand_models,rand_exps],names=['models','experiments'])\n",
    "\n",
    "#Create dataframe with random multiindex\n",
    "rand_median_df = pd.DataFrame(columns=metrics,index=rand_multidex)\n",
    "\n",
    "#For every random model...\n",
    "for model in rand_models:\n",
    "    \n",
    "    #Get a list of experiments\n",
    "    experiments = list(metrics_dict[model].keys())\n",
    "    \n",
    "    #And for each of those experiments...\n",
    "    for experiment in experiments:\n",
    "        \n",
    "        #And for each metric...\n",
    "        for metric in metrics:\n",
    "            \n",
    "            #Calculate the median value of that metric and save it into ext_median_df\n",
    "            rand_median_df.loc[model,experiment][metric] = np.median(metrics_dict[model][experiment][metric])\n",
    "\n",
    "#Peek at rand_median_df\n",
    "rand_median_df.head()"
   ]
  },
  {
   "cell_type": "markdown",
   "id": "e1510c9f",
   "metadata": {},
   "source": [
    "##### Random Model Table (Mean of the Medians)"
   ]
  },
  {
   "cell_type": "markdown",
   "id": "d4db4116",
   "metadata": {},
   "source": [
    "Here we take the mean of the median metric scores by model so that we have one set of descriptive metrics for each random model."
   ]
  },
  {
   "cell_type": "code",
   "execution_count": 10,
   "id": "a93229e0",
   "metadata": {},
   "outputs": [
    {
     "data": {
      "text/html": [
       "<div>\n",
       "<style scoped>\n",
       "    .dataframe tbody tr th:only-of-type {\n",
       "        vertical-align: middle;\n",
       "    }\n",
       "\n",
       "    .dataframe tbody tr th {\n",
       "        vertical-align: top;\n",
       "    }\n",
       "\n",
       "    .dataframe thead th {\n",
       "        text-align: right;\n",
       "    }\n",
       "</style>\n",
       "<table border=\"1\" class=\"dataframe\">\n",
       "  <thead>\n",
       "    <tr style=\"text-align: right;\">\n",
       "      <th></th>\n",
       "      <th>alpha_nse</th>\n",
       "      <th>beta_kge</th>\n",
       "      <th>beta_nse</th>\n",
       "      <th>kge</th>\n",
       "      <th>mse</th>\n",
       "      <th>nse</th>\n",
       "      <th>rmse</th>\n",
       "      <th>pearsonr</th>\n",
       "    </tr>\n",
       "  </thead>\n",
       "  <tbody>\n",
       "    <tr>\n",
       "      <th>nh_dynamic_random_daymet_all</th>\n",
       "      <td>0.893626</td>\n",
       "      <td>0.988217</td>\n",
       "      <td>-0.005372</td>\n",
       "      <td>0.781075</td>\n",
       "      <td>1.128091</td>\n",
       "      <td>0.773443</td>\n",
       "      <td>1.061908</td>\n",
       "      <td>0.893876</td>\n",
       "    </tr>\n",
       "    <tr>\n",
       "      <th>nh_static_random_nldas_extended_nwm</th>\n",
       "      <td>0.9171</td>\n",
       "      <td>0.994189</td>\n",
       "      <td>-0.002159</td>\n",
       "      <td>0.865654</td>\n",
       "      <td>0.713633</td>\n",
       "      <td>0.862731</td>\n",
       "      <td>0.844622</td>\n",
       "      <td>0.932401</td>\n",
       "    </tr>\n",
       "    <tr>\n",
       "      <th>nh_dynamic_random_nldas_extended_nwm</th>\n",
       "      <td>0.908706</td>\n",
       "      <td>0.993338</td>\n",
       "      <td>-0.002495</td>\n",
       "      <td>0.838795</td>\n",
       "      <td>0.841304</td>\n",
       "      <td>0.834425</td>\n",
       "      <td>0.916966</td>\n",
       "      <td>0.919115</td>\n",
       "    </tr>\n",
       "    <tr>\n",
       "      <th>sacsma_random_daymet_all</th>\n",
       "      <td>0.809232</td>\n",
       "      <td>1.14624</td>\n",
       "      <td>0.081949</td>\n",
       "      <td>0.579378</td>\n",
       "      <td>2.003844</td>\n",
       "      <td>0.59443</td>\n",
       "      <td>1.415194</td>\n",
       "      <td>0.812554</td>\n",
       "    </tr>\n",
       "    <tr>\n",
       "      <th>nh_static_random_daymet_all</th>\n",
       "      <td>0.891557</td>\n",
       "      <td>0.988062</td>\n",
       "      <td>-0.005727</td>\n",
       "      <td>0.79685</td>\n",
       "      <td>1.062771</td>\n",
       "      <td>0.78263</td>\n",
       "      <td>1.030707</td>\n",
       "      <td>0.897106</td>\n",
       "    </tr>\n",
       "  </tbody>\n",
       "</table>\n",
       "</div>"
      ],
      "text/plain": [
       "                                     alpha_nse  beta_kge  beta_nse       kge  \\\n",
       "nh_dynamic_random_daymet_all          0.893626  0.988217 -0.005372  0.781075   \n",
       "nh_static_random_nldas_extended_nwm     0.9171  0.994189 -0.002159  0.865654   \n",
       "nh_dynamic_random_nldas_extended_nwm  0.908706  0.993338 -0.002495  0.838795   \n",
       "sacsma_random_daymet_all              0.809232   1.14624  0.081949  0.579378   \n",
       "nh_static_random_daymet_all           0.891557  0.988062 -0.005727   0.79685   \n",
       "\n",
       "                                           mse       nse      rmse  pearsonr  \n",
       "nh_dynamic_random_daymet_all          1.128091  0.773443  1.061908  0.893876  \n",
       "nh_static_random_nldas_extended_nwm   0.713633  0.862731  0.844622  0.932401  \n",
       "nh_dynamic_random_nldas_extended_nwm  0.841304  0.834425  0.916966  0.919115  \n",
       "sacsma_random_daymet_all              2.003844   0.59443  1.415194  0.812554  \n",
       "nh_static_random_daymet_all           1.062771   0.78263  1.030707  0.897106  "
      ]
     },
     "execution_count": 10,
     "metadata": {},
     "output_type": "execute_result"
    }
   ],
   "source": [
    "mean_rand_df = pd.DataFrame(columns = rand_median_df.columns,index=rand_models)\n",
    "\n",
    "for model in rand_models:\n",
    "    rand_list = []\n",
    "    mean_rand_df.loc[model] = rand_median_df.loc[model].mean()\n",
    "\n",
    "mean_rand_df.head()"
   ]
  },
  {
   "cell_type": "markdown",
   "id": "3d8b82d1",
   "metadata": {},
   "source": [
    "##### Total Table"
   ]
  },
  {
   "cell_type": "markdown",
   "id": "b7c63707",
   "metadata": {},
   "source": [
    "Here we concatenate the extreme and (mean) random median metrics tables into one big table."
   ]
  },
  {
   "cell_type": "code",
   "execution_count": 11,
   "id": "d64ac715",
   "metadata": {},
   "outputs": [
    {
     "data": {
      "text/html": [
       "<div>\n",
       "<style scoped>\n",
       "    .dataframe tbody tr th:only-of-type {\n",
       "        vertical-align: middle;\n",
       "    }\n",
       "\n",
       "    .dataframe tbody tr th {\n",
       "        vertical-align: top;\n",
       "    }\n",
       "\n",
       "    .dataframe thead th {\n",
       "        text-align: right;\n",
       "    }\n",
       "</style>\n",
       "<table border=\"1\" class=\"dataframe\">\n",
       "  <thead>\n",
       "    <tr style=\"text-align: right;\">\n",
       "      <th></th>\n",
       "      <th>alpha_nse</th>\n",
       "      <th>beta_kge</th>\n",
       "      <th>beta_nse</th>\n",
       "      <th>kge</th>\n",
       "      <th>mse</th>\n",
       "      <th>nse</th>\n",
       "      <th>rmse</th>\n",
       "      <th>pearsonr</th>\n",
       "    </tr>\n",
       "  </thead>\n",
       "  <tbody>\n",
       "    <tr>\n",
       "      <th>(nh_dynamic_extreme_daymet_nwm, aridity_high)</th>\n",
       "      <td>0.868716</td>\n",
       "      <td>0.987979</td>\n",
       "      <td>-0.004954</td>\n",
       "      <td>0.727424</td>\n",
       "      <td>0.494415</td>\n",
       "      <td>0.736661</td>\n",
       "      <td>0.703147</td>\n",
       "      <td>0.876347</td>\n",
       "    </tr>\n",
       "    <tr>\n",
       "      <th>(nh_dynamic_extreme_daymet_nwm, aridity_low)</th>\n",
       "      <td>0.870547</td>\n",
       "      <td>0.973161</td>\n",
       "      <td>-0.012992</td>\n",
       "      <td>0.758301</td>\n",
       "      <td>2.088403</td>\n",
       "      <td>0.748234</td>\n",
       "      <td>1.445131</td>\n",
       "      <td>0.876207</td>\n",
       "    </tr>\n",
       "    <tr>\n",
       "      <th>(nh_static_extreme_daymet_nwm, aridity_high)</th>\n",
       "      <td>0.878733</td>\n",
       "      <td>1.022305</td>\n",
       "      <td>0.015431</td>\n",
       "      <td>0.746649</td>\n",
       "      <td>0.443082</td>\n",
       "      <td>0.741288</td>\n",
       "      <td>0.665644</td>\n",
       "      <td>0.879823</td>\n",
       "    </tr>\n",
       "    <tr>\n",
       "      <th>(nh_static_extreme_daymet_nwm, aridity_low)</th>\n",
       "      <td>0.856995</td>\n",
       "      <td>0.937718</td>\n",
       "      <td>-0.03082</td>\n",
       "      <td>0.75456</td>\n",
       "      <td>2.082557</td>\n",
       "      <td>0.750663</td>\n",
       "      <td>1.443107</td>\n",
       "      <td>0.880899</td>\n",
       "    </tr>\n",
       "    <tr>\n",
       "      <th>(nh_static_extreme_daymet_all, aridity_high)</th>\n",
       "      <td>0.856041</td>\n",
       "      <td>1.044905</td>\n",
       "      <td>0.026248</td>\n",
       "      <td>0.680178</td>\n",
       "      <td>0.432945</td>\n",
       "      <td>0.710859</td>\n",
       "      <td>0.657986</td>\n",
       "      <td>0.87075</td>\n",
       "    </tr>\n",
       "  </tbody>\n",
       "</table>\n",
       "</div>"
      ],
      "text/plain": [
       "                                              alpha_nse  beta_kge  beta_nse  \\\n",
       "(nh_dynamic_extreme_daymet_nwm, aridity_high)  0.868716  0.987979 -0.004954   \n",
       "(nh_dynamic_extreme_daymet_nwm, aridity_low)   0.870547  0.973161 -0.012992   \n",
       "(nh_static_extreme_daymet_nwm, aridity_high)   0.878733  1.022305  0.015431   \n",
       "(nh_static_extreme_daymet_nwm, aridity_low)    0.856995  0.937718  -0.03082   \n",
       "(nh_static_extreme_daymet_all, aridity_high)   0.856041  1.044905  0.026248   \n",
       "\n",
       "                                                    kge       mse       nse  \\\n",
       "(nh_dynamic_extreme_daymet_nwm, aridity_high)  0.727424  0.494415  0.736661   \n",
       "(nh_dynamic_extreme_daymet_nwm, aridity_low)   0.758301  2.088403  0.748234   \n",
       "(nh_static_extreme_daymet_nwm, aridity_high)   0.746649  0.443082  0.741288   \n",
       "(nh_static_extreme_daymet_nwm, aridity_low)     0.75456  2.082557  0.750663   \n",
       "(nh_static_extreme_daymet_all, aridity_high)   0.680178  0.432945  0.710859   \n",
       "\n",
       "                                                   rmse  pearsonr  \n",
       "(nh_dynamic_extreme_daymet_nwm, aridity_high)  0.703147  0.876347  \n",
       "(nh_dynamic_extreme_daymet_nwm, aridity_low)   1.445131  0.876207  \n",
       "(nh_static_extreme_daymet_nwm, aridity_high)   0.665644  0.879823  \n",
       "(nh_static_extreme_daymet_nwm, aridity_low)    1.443107  0.880899  \n",
       "(nh_static_extreme_daymet_all, aridity_high)   0.657986   0.87075  "
      ]
     },
     "execution_count": 11,
     "metadata": {},
     "output_type": "execute_result"
    }
   ],
   "source": [
    "#Combine the extreme and random median dfs\n",
    "median_df = pd.concat([ext_median_df,mean_rand_df], ignore_index=False)\n",
    "\n",
    "#Peek at combined df\n",
    "median_df.head()"
   ]
  }
 ],
 "metadata": {
  "kernelspec": {
   "display_name": "Python 3 (ipykernel)",
   "language": "python",
   "name": "python3"
  },
  "language_info": {
   "codemirror_mode": {
    "name": "ipython",
    "version": 3
   },
   "file_extension": ".py",
   "mimetype": "text/x-python",
   "name": "python",
   "nbconvert_exporter": "python",
   "pygments_lexer": "ipython3",
   "version": "3.7.11"
  }
 },
 "nbformat": 4,
 "nbformat_minor": 5
}
